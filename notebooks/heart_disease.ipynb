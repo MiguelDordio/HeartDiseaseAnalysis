{
 "cells": [
  {
   "cell_type": "markdown",
   "metadata": {
    "collapsed": true,
    "pycharm": {
     "name": "#%% md\n"
    }
   },
   "source": [
    "### 1 - Definição do problema"
   ]
  },
  {
   "cell_type": "markdown",
   "source": [
    "TODO"
   ],
   "metadata": {
    "collapsed": false
   }
  },
  {
   "cell_type": "markdown",
   "source": [
    "### 2 - Aquisição dos dados\n",
    "Os dados utilizados para este trabalho foram retirados do Kaggle em https://www.kaggle.com/fedesoriano/heart-failure-prediction"
   ],
   "metadata": {
    "collapsed": false
   }
  },
  {
   "cell_type": "markdown",
   "source": [
    "### 3 - Data Wrangling\n",
    "Importar as bibliotecas que vamos utilizar"
   ],
   "metadata": {
    "collapsed": false
   }
  },
  {
   "cell_type": "code",
   "execution_count": 132,
   "outputs": [],
   "source": [
    "import numpy as np\n",
    "import pandas as pd\n",
    "from datetime import datetime\n",
    "import matplotlib.pyplot as plt\n",
    "import seaborn as sns\n",
    "from math import ceil\n",
    "sns.set()"
   ],
   "metadata": {
    "collapsed": false,
    "pycharm": {
     "name": "#%%\n"
    }
   }
  },
  {
   "cell_type": "markdown",
   "source": [
    "Machine Learning algorithms"
   ],
   "metadata": {
    "collapsed": false
   }
  },
  {
   "cell_type": "code",
   "execution_count": 133,
   "outputs": [],
   "source": [
    "from sklearn.ensemble import RandomForestClassifier #Random Forest\n",
    "from sklearn.model_selection import train_test_split, GridSearchCV #training and testing data split\n",
    "from sklearn import metrics #accuracy measure\n",
    "from sklearn.preprocessing import MinMaxScaler, StandardScaler\n",
    "from sklearn.metrics import confusion_matrix #for confusion matrix\n",
    "from sklearn.metrics import classification_report, confusion_matrix\n",
    "from sklearn.neural_network import MLPClassifier\n",
    "from sklearn.preprocessing import LabelEncoder"
   ],
   "metadata": {
    "collapsed": false,
    "pycharm": {
     "name": "#%%\n"
    }
   }
  },
  {
   "cell_type": "code",
   "execution_count": 134,
   "outputs": [
    {
     "name": "stdout",
     "output_type": "stream",
     "text": [
      "teste\n"
     ]
    }
   ],
   "source": [
    "print(\"teste\")"
   ],
   "metadata": {
    "collapsed": false,
    "pycharm": {
     "name": "#%%\n"
    }
   }
  },
  {
   "cell_type": "markdown",
   "source": [
    "## 3 - Data Wrangling"
   ],
   "metadata": {
    "collapsed": false
   }
  },
  {
   "cell_type": "markdown",
   "source": [
    "Nesta etapa vamos realizar as seguintes tarefas:\n",
    "- Importar o dataset e fazer a limpeza de valores NaN (vazios)\n",
    "- Renomear algumas colunas para melhor cmopreensão dos dados\n",
    "- Converter nomenclaturas para melhor processamento de dados\n",
    "- Criar uma nova coluna de faixas etárias para agrupar os diferentes individuos\n",
    "- Criar novas colunas indicando se os niveis de colestrol, batimento cardiacos\n",
    "são normais, acima ou abaixo da média\n"
   ],
   "metadata": {
    "collapsed": false
   }
  },
  {
   "cell_type": "code",
   "execution_count": 135,
   "outputs": [
    {
     "data": {
      "text/plain": "     Age Sex ChestPainType  RestingBP  Cholesterol  FastingBS RestingECG  \\\n0     40   M           ATA        140          289          0     Normal   \n1     49   F           NAP        160          180          0     Normal   \n2     37   M           ATA        130          283          0         ST   \n3     48   F           ASY        138          214          0     Normal   \n4     54   M           NAP        150          195          0     Normal   \n..   ...  ..           ...        ...          ...        ...        ...   \n913   45   M            TA        110          264          0     Normal   \n914   68   M           ASY        144          193          1     Normal   \n915   57   M           ASY        130          131          0     Normal   \n916   57   F           ATA        130          236          0        LVH   \n917   38   M           NAP        138          175          0     Normal   \n\n     MaxHR ExerciseAngina  Oldpeak ST_Slope  HeartDisease  \n0      172              N      0.0       Up             0  \n1      156              N      1.0     Flat             1  \n2       98              N      0.0       Up             0  \n3      108              Y      1.5     Flat             1  \n4      122              N      0.0       Up             0  \n..     ...            ...      ...      ...           ...  \n913    132              N      1.2     Flat             1  \n914    141              N      3.4     Flat             1  \n915    115              Y      1.2     Flat             1  \n916    174              N      0.0     Flat             1  \n917    173              N      0.0       Up             0  \n\n[918 rows x 12 columns]",
      "text/html": "<div>\n<style scoped>\n    .dataframe tbody tr th:only-of-type {\n        vertical-align: middle;\n    }\n\n    .dataframe tbody tr th {\n        vertical-align: top;\n    }\n\n    .dataframe thead th {\n        text-align: right;\n    }\n</style>\n<table border=\"1\" class=\"dataframe\">\n  <thead>\n    <tr style=\"text-align: right;\">\n      <th></th>\n      <th>Age</th>\n      <th>Sex</th>\n      <th>ChestPainType</th>\n      <th>RestingBP</th>\n      <th>Cholesterol</th>\n      <th>FastingBS</th>\n      <th>RestingECG</th>\n      <th>MaxHR</th>\n      <th>ExerciseAngina</th>\n      <th>Oldpeak</th>\n      <th>ST_Slope</th>\n      <th>HeartDisease</th>\n    </tr>\n  </thead>\n  <tbody>\n    <tr>\n      <th>0</th>\n      <td>40</td>\n      <td>M</td>\n      <td>ATA</td>\n      <td>140</td>\n      <td>289</td>\n      <td>0</td>\n      <td>Normal</td>\n      <td>172</td>\n      <td>N</td>\n      <td>0.0</td>\n      <td>Up</td>\n      <td>0</td>\n    </tr>\n    <tr>\n      <th>1</th>\n      <td>49</td>\n      <td>F</td>\n      <td>NAP</td>\n      <td>160</td>\n      <td>180</td>\n      <td>0</td>\n      <td>Normal</td>\n      <td>156</td>\n      <td>N</td>\n      <td>1.0</td>\n      <td>Flat</td>\n      <td>1</td>\n    </tr>\n    <tr>\n      <th>2</th>\n      <td>37</td>\n      <td>M</td>\n      <td>ATA</td>\n      <td>130</td>\n      <td>283</td>\n      <td>0</td>\n      <td>ST</td>\n      <td>98</td>\n      <td>N</td>\n      <td>0.0</td>\n      <td>Up</td>\n      <td>0</td>\n    </tr>\n    <tr>\n      <th>3</th>\n      <td>48</td>\n      <td>F</td>\n      <td>ASY</td>\n      <td>138</td>\n      <td>214</td>\n      <td>0</td>\n      <td>Normal</td>\n      <td>108</td>\n      <td>Y</td>\n      <td>1.5</td>\n      <td>Flat</td>\n      <td>1</td>\n    </tr>\n    <tr>\n      <th>4</th>\n      <td>54</td>\n      <td>M</td>\n      <td>NAP</td>\n      <td>150</td>\n      <td>195</td>\n      <td>0</td>\n      <td>Normal</td>\n      <td>122</td>\n      <td>N</td>\n      <td>0.0</td>\n      <td>Up</td>\n      <td>0</td>\n    </tr>\n    <tr>\n      <th>...</th>\n      <td>...</td>\n      <td>...</td>\n      <td>...</td>\n      <td>...</td>\n      <td>...</td>\n      <td>...</td>\n      <td>...</td>\n      <td>...</td>\n      <td>...</td>\n      <td>...</td>\n      <td>...</td>\n      <td>...</td>\n    </tr>\n    <tr>\n      <th>913</th>\n      <td>45</td>\n      <td>M</td>\n      <td>TA</td>\n      <td>110</td>\n      <td>264</td>\n      <td>0</td>\n      <td>Normal</td>\n      <td>132</td>\n      <td>N</td>\n      <td>1.2</td>\n      <td>Flat</td>\n      <td>1</td>\n    </tr>\n    <tr>\n      <th>914</th>\n      <td>68</td>\n      <td>M</td>\n      <td>ASY</td>\n      <td>144</td>\n      <td>193</td>\n      <td>1</td>\n      <td>Normal</td>\n      <td>141</td>\n      <td>N</td>\n      <td>3.4</td>\n      <td>Flat</td>\n      <td>1</td>\n    </tr>\n    <tr>\n      <th>915</th>\n      <td>57</td>\n      <td>M</td>\n      <td>ASY</td>\n      <td>130</td>\n      <td>131</td>\n      <td>0</td>\n      <td>Normal</td>\n      <td>115</td>\n      <td>Y</td>\n      <td>1.2</td>\n      <td>Flat</td>\n      <td>1</td>\n    </tr>\n    <tr>\n      <th>916</th>\n      <td>57</td>\n      <td>F</td>\n      <td>ATA</td>\n      <td>130</td>\n      <td>236</td>\n      <td>0</td>\n      <td>LVH</td>\n      <td>174</td>\n      <td>N</td>\n      <td>0.0</td>\n      <td>Flat</td>\n      <td>1</td>\n    </tr>\n    <tr>\n      <th>917</th>\n      <td>38</td>\n      <td>M</td>\n      <td>NAP</td>\n      <td>138</td>\n      <td>175</td>\n      <td>0</td>\n      <td>Normal</td>\n      <td>173</td>\n      <td>N</td>\n      <td>0.0</td>\n      <td>Up</td>\n      <td>0</td>\n    </tr>\n  </tbody>\n</table>\n<p>918 rows × 12 columns</p>\n</div>"
     },
     "execution_count": 135,
     "metadata": {},
     "output_type": "execute_result"
    }
   ],
   "source": [
    "df = pd.read_csv('../data/heart.csv', sep=\",\", encoding=\"utf-8\")\n",
    "df"
   ],
   "metadata": {
    "collapsed": false,
    "pycharm": {
     "name": "#%%\n"
    }
   }
  },
  {
   "cell_type": "code",
   "execution_count": 136,
   "outputs": [
    {
     "name": "stdout",
     "output_type": "stream",
     "text": [
      "<class 'pandas.core.frame.DataFrame'>\n",
      "RangeIndex: 918 entries, 0 to 917\n",
      "Data columns (total 12 columns):\n",
      " #   Column          Non-Null Count  Dtype  \n",
      "---  ------          --------------  -----  \n",
      " 0   Age             918 non-null    int64  \n",
      " 1   Sex             918 non-null    object \n",
      " 2   ChestPainType   918 non-null    object \n",
      " 3   RestingBP       918 non-null    int64  \n",
      " 4   Cholesterol     918 non-null    int64  \n",
      " 5   FastingBS       918 non-null    int64  \n",
      " 6   RestingECG      918 non-null    object \n",
      " 7   MaxHR           918 non-null    int64  \n",
      " 8   ExerciseAngina  918 non-null    object \n",
      " 9   Oldpeak         918 non-null    float64\n",
      " 10  ST_Slope        918 non-null    object \n",
      " 11  HeartDisease    918 non-null    int64  \n",
      "dtypes: float64(1), int64(6), object(5)\n",
      "memory usage: 86.2+ KB\n"
     ]
    }
   ],
   "source": [
    "df.info()"
   ],
   "metadata": {
    "collapsed": false,
    "pycharm": {
     "name": "#%%\n"
    }
   }
  },
  {
   "cell_type": "code",
   "execution_count": 137,
   "outputs": [
    {
     "data": {
      "text/plain": "(918, 12)"
     },
     "execution_count": 137,
     "metadata": {},
     "output_type": "execute_result"
    }
   ],
   "source": [
    "df.drop_duplicates()\n",
    "df.shape"
   ],
   "metadata": {
    "collapsed": false,
    "pycharm": {
     "name": "#%%\n"
    }
   }
  },
  {
   "cell_type": "markdown",
   "source": [
    "The dataset doesn't contain any nulls or duplicated values.\n",
    "Now lets take a look at the non-metric columns"
   ],
   "metadata": {
    "collapsed": false
   }
  },
  {
   "cell_type": "code",
   "execution_count": 138,
   "outputs": [
    {
     "name": "stdout",
     "output_type": "stream",
     "text": [
      "M    0.78976\n",
      "F    0.21024\n",
      "Name: Sex, dtype: float64 \n",
      "\n",
      "ASY    0.540305\n",
      "NAP    0.221133\n",
      "ATA    0.188453\n",
      "TA     0.050109\n",
      "Name: ChestPainType, dtype: float64 \n",
      "\n",
      "Normal    0.601307\n",
      "LVH       0.204793\n",
      "ST        0.193900\n",
      "Name: RestingECG, dtype: float64 \n",
      "\n",
      "N    0.595861\n",
      "Y    0.404139\n",
      "Name: ExerciseAngina, dtype: float64 \n",
      "\n",
      "Flat    0.501089\n",
      "Up      0.430283\n",
      "Down    0.068627\n",
      "Name: ST_Slope, dtype: float64 \n",
      "\n"
     ]
    }
   ],
   "source": [
    "categorical = [\"Sex\", \"ChestPainType\", \"RestingECG\", \"ExerciseAngina\", \"ST_Slope\"]\n",
    "\n",
    "for value in categorical:\n",
    "    print(df[value].value_counts(normalize=True), \"\\n\")"
   ],
   "metadata": {
    "collapsed": false,
    "pycharm": {
     "name": "#%%\n"
    }
   }
  },
  {
   "cell_type": "markdown",
   "source": [
    "Since the column values seem to be specific categories, they can be converted in\n",
    "numerical values to facilitate processing"
   ],
   "metadata": {
    "collapsed": false,
    "pycharm": {
     "name": "#%% md\n"
    }
   }
  },
  {
   "cell_type": "code",
   "execution_count": 139,
   "outputs": [
    {
     "data": {
      "text/plain": "     Age  Sex  ChestPainType  RestingBP  Cholesterol  FastingBS  RestingECG  \\\n0     40    1              1        140          289          0           1   \n1     49    0              2        160          180          0           1   \n2     37    1              1        130          283          0           2   \n3     48    0              0        138          214          0           1   \n4     54    1              2        150          195          0           1   \n..   ...  ...            ...        ...          ...        ...         ...   \n913   45    1              3        110          264          0           1   \n914   68    1              0        144          193          1           1   \n915   57    1              0        130          131          0           1   \n916   57    0              1        130          236          0           0   \n917   38    1              2        138          175          0           1   \n\n     MaxHR  ExerciseAngina  Oldpeak  ST_Slope  HeartDisease  \n0      172               0      0.0         2             0  \n1      156               0      1.0         1             1  \n2       98               0      0.0         2             0  \n3      108               1      1.5         1             1  \n4      122               0      0.0         2             0  \n..     ...             ...      ...       ...           ...  \n913    132               0      1.2         1             1  \n914    141               0      3.4         1             1  \n915    115               1      1.2         1             1  \n916    174               0      0.0         1             1  \n917    173               0      0.0         2             0  \n\n[918 rows x 12 columns]",
      "text/html": "<div>\n<style scoped>\n    .dataframe tbody tr th:only-of-type {\n        vertical-align: middle;\n    }\n\n    .dataframe tbody tr th {\n        vertical-align: top;\n    }\n\n    .dataframe thead th {\n        text-align: right;\n    }\n</style>\n<table border=\"1\" class=\"dataframe\">\n  <thead>\n    <tr style=\"text-align: right;\">\n      <th></th>\n      <th>Age</th>\n      <th>Sex</th>\n      <th>ChestPainType</th>\n      <th>RestingBP</th>\n      <th>Cholesterol</th>\n      <th>FastingBS</th>\n      <th>RestingECG</th>\n      <th>MaxHR</th>\n      <th>ExerciseAngina</th>\n      <th>Oldpeak</th>\n      <th>ST_Slope</th>\n      <th>HeartDisease</th>\n    </tr>\n  </thead>\n  <tbody>\n    <tr>\n      <th>0</th>\n      <td>40</td>\n      <td>1</td>\n      <td>1</td>\n      <td>140</td>\n      <td>289</td>\n      <td>0</td>\n      <td>1</td>\n      <td>172</td>\n      <td>0</td>\n      <td>0.0</td>\n      <td>2</td>\n      <td>0</td>\n    </tr>\n    <tr>\n      <th>1</th>\n      <td>49</td>\n      <td>0</td>\n      <td>2</td>\n      <td>160</td>\n      <td>180</td>\n      <td>0</td>\n      <td>1</td>\n      <td>156</td>\n      <td>0</td>\n      <td>1.0</td>\n      <td>1</td>\n      <td>1</td>\n    </tr>\n    <tr>\n      <th>2</th>\n      <td>37</td>\n      <td>1</td>\n      <td>1</td>\n      <td>130</td>\n      <td>283</td>\n      <td>0</td>\n      <td>2</td>\n      <td>98</td>\n      <td>0</td>\n      <td>0.0</td>\n      <td>2</td>\n      <td>0</td>\n    </tr>\n    <tr>\n      <th>3</th>\n      <td>48</td>\n      <td>0</td>\n      <td>0</td>\n      <td>138</td>\n      <td>214</td>\n      <td>0</td>\n      <td>1</td>\n      <td>108</td>\n      <td>1</td>\n      <td>1.5</td>\n      <td>1</td>\n      <td>1</td>\n    </tr>\n    <tr>\n      <th>4</th>\n      <td>54</td>\n      <td>1</td>\n      <td>2</td>\n      <td>150</td>\n      <td>195</td>\n      <td>0</td>\n      <td>1</td>\n      <td>122</td>\n      <td>0</td>\n      <td>0.0</td>\n      <td>2</td>\n      <td>0</td>\n    </tr>\n    <tr>\n      <th>...</th>\n      <td>...</td>\n      <td>...</td>\n      <td>...</td>\n      <td>...</td>\n      <td>...</td>\n      <td>...</td>\n      <td>...</td>\n      <td>...</td>\n      <td>...</td>\n      <td>...</td>\n      <td>...</td>\n      <td>...</td>\n    </tr>\n    <tr>\n      <th>913</th>\n      <td>45</td>\n      <td>1</td>\n      <td>3</td>\n      <td>110</td>\n      <td>264</td>\n      <td>0</td>\n      <td>1</td>\n      <td>132</td>\n      <td>0</td>\n      <td>1.2</td>\n      <td>1</td>\n      <td>1</td>\n    </tr>\n    <tr>\n      <th>914</th>\n      <td>68</td>\n      <td>1</td>\n      <td>0</td>\n      <td>144</td>\n      <td>193</td>\n      <td>1</td>\n      <td>1</td>\n      <td>141</td>\n      <td>0</td>\n      <td>3.4</td>\n      <td>1</td>\n      <td>1</td>\n    </tr>\n    <tr>\n      <th>915</th>\n      <td>57</td>\n      <td>1</td>\n      <td>0</td>\n      <td>130</td>\n      <td>131</td>\n      <td>0</td>\n      <td>1</td>\n      <td>115</td>\n      <td>1</td>\n      <td>1.2</td>\n      <td>1</td>\n      <td>1</td>\n    </tr>\n    <tr>\n      <th>916</th>\n      <td>57</td>\n      <td>0</td>\n      <td>1</td>\n      <td>130</td>\n      <td>236</td>\n      <td>0</td>\n      <td>0</td>\n      <td>174</td>\n      <td>0</td>\n      <td>0.0</td>\n      <td>1</td>\n      <td>1</td>\n    </tr>\n    <tr>\n      <th>917</th>\n      <td>38</td>\n      <td>1</td>\n      <td>2</td>\n      <td>138</td>\n      <td>175</td>\n      <td>0</td>\n      <td>1</td>\n      <td>173</td>\n      <td>0</td>\n      <td>0.0</td>\n      <td>2</td>\n      <td>0</td>\n    </tr>\n  </tbody>\n</table>\n<p>918 rows × 12 columns</p>\n</div>"
     },
     "execution_count": 139,
     "metadata": {},
     "output_type": "execute_result"
    }
   ],
   "source": [
    "enc = LabelEncoder()\n",
    "\n",
    "# Gender: M -> 1 | F -> 0\n",
    "enc.fit(df['Sex'])\n",
    "df['Sex'] = enc.transform(df['Sex'])\n",
    "\n",
    "# ChestPainType: ASY -> 0 | ATA -> 1 | NAP -> 2 | TA -> 3\n",
    "enc.fit(df['ChestPainType'])\n",
    "df['ChestPainType'] = enc.transform(df['ChestPainType'])\n",
    "\n",
    "# RestingECG: LVH -> 0 | Normal -> 1 | ST -> 2\n",
    "enc.fit(df['RestingECG'])\n",
    "df['RestingECG'] = enc.transform(df['RestingECG'])\n",
    "\n",
    "# ExerciseAngina: N -> 0 | Y -> 1\n",
    "enc.fit(df['ExerciseAngina'])\n",
    "df['ExerciseAngina'] = enc.transform(df['ExerciseAngina'])\n",
    "\n",
    "# ST_Slope: Down -> 0 | Flat -> 1 | Up -> 2\n",
    "enc.fit(df['ST_Slope'])\n",
    "df['ST_Slope'] = enc.transform(df['ST_Slope'])\n",
    "\n",
    "df"
   ],
   "metadata": {
    "collapsed": false,
    "pycharm": {
     "name": "#%%\n"
    }
   }
  },
  {
   "cell_type": "markdown",
   "source": [
    "##### Faixas etárias\n",
    "\n",
    "Vamos categorizar as idades dos individuos no dataset, agrupando-os por faixas etárias\n",
    "para melhor analisar os resultados dos dados clínicos destes."
   ],
   "metadata": {
    "collapsed": false,
    "pycharm": {
     "name": "#%% md\n"
    }
   }
  },
  {
   "cell_type": "code",
   "execution_count": 140,
   "outputs": [],
   "source": [
    "bins = np.arange(20, 100, 15)\n",
    "\n",
    "df['age_category'] = np.digitize(df.Age, bins, right=True)"
   ],
   "metadata": {
    "collapsed": false,
    "pycharm": {
     "name": "#%%\n"
    }
   }
  },
  {
   "cell_type": "code",
   "execution_count": 141,
   "outputs": [],
   "source": [
    "def f(row,col_name, min_value, high_value):\n",
    "    if row[col_name] < min_value:\n",
    "        val = 'Low'\n",
    "    elif min_value < row[col_name] <= high_value:\n",
    "        val = 'Normal'\n",
    "    else:\n",
    "        val = 'High'\n",
    "    return val"
   ],
   "metadata": {
    "collapsed": false,
    "pycharm": {
     "name": "#%%\n"
    }
   }
  },
  {
   "cell_type": "markdown",
   "source": [
    "##### Niveis de colestrol\n",
    "\n",
    "O nivel de colestrol total para um adulto normal deve estar entre 125 a 200 md/dL\n",
    "Assim vamos criar uma nova coluna onde os niveis de colestrol de cada individuo estão classificados\n",
    "entre 'low', 'normal' e 'high'"
   ],
   "metadata": {
    "collapsed": false,
    "pycharm": {
     "name": "#%% md\n"
    }
   }
  },
  {
   "cell_type": "code",
   "execution_count": 142,
   "outputs": [],
   "source": [
    "df['Cholesterol_type'] = df.apply(lambda row: f(row,'Cholesterol', 125, 200) , axis=1)"
   ],
   "metadata": {
    "collapsed": false,
    "pycharm": {
     "name": "#%%\n"
    }
   }
  },
  {
   "cell_type": "markdown",
   "source": [
    "##### Niveis pressão sanguinea em repouso\n",
    "\n",
    "Valor ideal entre 90/60mmHg and 120/80mmHg\n",
    "\n",
    "É considerada pressão elevada quando é igual ou acima de 140/90mmHg\n",
    "\n",
    "É considerada pressão baixa quando está igual ou inferior a 90/60mmHg"
   ],
   "metadata": {
    "collapsed": false
   }
  },
  {
   "cell_type": "code",
   "execution_count": 143,
   "outputs": [],
   "source": [
    "df['RestingBP_type'] = df.apply(lambda row: f(row,'RestingBP', 90, 140) , axis=1)"
   ],
   "metadata": {
    "collapsed": false,
    "pycharm": {
     "name": "#%%\n"
    }
   }
  },
  {
   "cell_type": "markdown",
   "source": [
    "Data set final após Data Wrangling."
   ],
   "metadata": {
    "collapsed": false,
    "pycharm": {
     "name": "#%% md\n"
    }
   }
  },
  {
   "cell_type": "code",
   "execution_count": 144,
   "outputs": [
    {
     "data": {
      "text/plain": "     Age  Sex  ChestPainType  RestingBP  Cholesterol  FastingBS  RestingECG  \\\n0     40    1              1        140          289          0           1   \n1     49    0              2        160          180          0           1   \n2     37    1              1        130          283          0           2   \n3     48    0              0        138          214          0           1   \n4     54    1              2        150          195          0           1   \n..   ...  ...            ...        ...          ...        ...         ...   \n913   45    1              3        110          264          0           1   \n914   68    1              0        144          193          1           1   \n915   57    1              0        130          131          0           1   \n916   57    0              1        130          236          0           0   \n917   38    1              2        138          175          0           1   \n\n     MaxHR  ExerciseAngina  Oldpeak  ST_Slope  HeartDisease  age_category  \\\n0      172               0      0.0         2             0             2   \n1      156               0      1.0         1             1             2   \n2       98               0      0.0         2             0             2   \n3      108               1      1.5         1             1             2   \n4      122               0      0.0         2             0             3   \n..     ...             ...      ...       ...           ...           ...   \n913    132               0      1.2         1             1             2   \n914    141               0      3.4         1             1             4   \n915    115               1      1.2         1             1             3   \n916    174               0      0.0         1             1             3   \n917    173               0      0.0         2             0             2   \n\n    Cholesterol_type RestingBP_type  \n0               High         Normal  \n1             Normal           High  \n2               High         Normal  \n3               High         Normal  \n4             Normal           High  \n..               ...            ...  \n913             High         Normal  \n914           Normal           High  \n915           Normal         Normal  \n916             High         Normal  \n917           Normal         Normal  \n\n[918 rows x 15 columns]",
      "text/html": "<div>\n<style scoped>\n    .dataframe tbody tr th:only-of-type {\n        vertical-align: middle;\n    }\n\n    .dataframe tbody tr th {\n        vertical-align: top;\n    }\n\n    .dataframe thead th {\n        text-align: right;\n    }\n</style>\n<table border=\"1\" class=\"dataframe\">\n  <thead>\n    <tr style=\"text-align: right;\">\n      <th></th>\n      <th>Age</th>\n      <th>Sex</th>\n      <th>ChestPainType</th>\n      <th>RestingBP</th>\n      <th>Cholesterol</th>\n      <th>FastingBS</th>\n      <th>RestingECG</th>\n      <th>MaxHR</th>\n      <th>ExerciseAngina</th>\n      <th>Oldpeak</th>\n      <th>ST_Slope</th>\n      <th>HeartDisease</th>\n      <th>age_category</th>\n      <th>Cholesterol_type</th>\n      <th>RestingBP_type</th>\n    </tr>\n  </thead>\n  <tbody>\n    <tr>\n      <th>0</th>\n      <td>40</td>\n      <td>1</td>\n      <td>1</td>\n      <td>140</td>\n      <td>289</td>\n      <td>0</td>\n      <td>1</td>\n      <td>172</td>\n      <td>0</td>\n      <td>0.0</td>\n      <td>2</td>\n      <td>0</td>\n      <td>2</td>\n      <td>High</td>\n      <td>Normal</td>\n    </tr>\n    <tr>\n      <th>1</th>\n      <td>49</td>\n      <td>0</td>\n      <td>2</td>\n      <td>160</td>\n      <td>180</td>\n      <td>0</td>\n      <td>1</td>\n      <td>156</td>\n      <td>0</td>\n      <td>1.0</td>\n      <td>1</td>\n      <td>1</td>\n      <td>2</td>\n      <td>Normal</td>\n      <td>High</td>\n    </tr>\n    <tr>\n      <th>2</th>\n      <td>37</td>\n      <td>1</td>\n      <td>1</td>\n      <td>130</td>\n      <td>283</td>\n      <td>0</td>\n      <td>2</td>\n      <td>98</td>\n      <td>0</td>\n      <td>0.0</td>\n      <td>2</td>\n      <td>0</td>\n      <td>2</td>\n      <td>High</td>\n      <td>Normal</td>\n    </tr>\n    <tr>\n      <th>3</th>\n      <td>48</td>\n      <td>0</td>\n      <td>0</td>\n      <td>138</td>\n      <td>214</td>\n      <td>0</td>\n      <td>1</td>\n      <td>108</td>\n      <td>1</td>\n      <td>1.5</td>\n      <td>1</td>\n      <td>1</td>\n      <td>2</td>\n      <td>High</td>\n      <td>Normal</td>\n    </tr>\n    <tr>\n      <th>4</th>\n      <td>54</td>\n      <td>1</td>\n      <td>2</td>\n      <td>150</td>\n      <td>195</td>\n      <td>0</td>\n      <td>1</td>\n      <td>122</td>\n      <td>0</td>\n      <td>0.0</td>\n      <td>2</td>\n      <td>0</td>\n      <td>3</td>\n      <td>Normal</td>\n      <td>High</td>\n    </tr>\n    <tr>\n      <th>...</th>\n      <td>...</td>\n      <td>...</td>\n      <td>...</td>\n      <td>...</td>\n      <td>...</td>\n      <td>...</td>\n      <td>...</td>\n      <td>...</td>\n      <td>...</td>\n      <td>...</td>\n      <td>...</td>\n      <td>...</td>\n      <td>...</td>\n      <td>...</td>\n      <td>...</td>\n    </tr>\n    <tr>\n      <th>913</th>\n      <td>45</td>\n      <td>1</td>\n      <td>3</td>\n      <td>110</td>\n      <td>264</td>\n      <td>0</td>\n      <td>1</td>\n      <td>132</td>\n      <td>0</td>\n      <td>1.2</td>\n      <td>1</td>\n      <td>1</td>\n      <td>2</td>\n      <td>High</td>\n      <td>Normal</td>\n    </tr>\n    <tr>\n      <th>914</th>\n      <td>68</td>\n      <td>1</td>\n      <td>0</td>\n      <td>144</td>\n      <td>193</td>\n      <td>1</td>\n      <td>1</td>\n      <td>141</td>\n      <td>0</td>\n      <td>3.4</td>\n      <td>1</td>\n      <td>1</td>\n      <td>4</td>\n      <td>Normal</td>\n      <td>High</td>\n    </tr>\n    <tr>\n      <th>915</th>\n      <td>57</td>\n      <td>1</td>\n      <td>0</td>\n      <td>130</td>\n      <td>131</td>\n      <td>0</td>\n      <td>1</td>\n      <td>115</td>\n      <td>1</td>\n      <td>1.2</td>\n      <td>1</td>\n      <td>1</td>\n      <td>3</td>\n      <td>Normal</td>\n      <td>Normal</td>\n    </tr>\n    <tr>\n      <th>916</th>\n      <td>57</td>\n      <td>0</td>\n      <td>1</td>\n      <td>130</td>\n      <td>236</td>\n      <td>0</td>\n      <td>0</td>\n      <td>174</td>\n      <td>0</td>\n      <td>0.0</td>\n      <td>1</td>\n      <td>1</td>\n      <td>3</td>\n      <td>High</td>\n      <td>Normal</td>\n    </tr>\n    <tr>\n      <th>917</th>\n      <td>38</td>\n      <td>1</td>\n      <td>2</td>\n      <td>138</td>\n      <td>175</td>\n      <td>0</td>\n      <td>1</td>\n      <td>173</td>\n      <td>0</td>\n      <td>0.0</td>\n      <td>2</td>\n      <td>0</td>\n      <td>2</td>\n      <td>Normal</td>\n      <td>Normal</td>\n    </tr>\n  </tbody>\n</table>\n<p>918 rows × 15 columns</p>\n</div>"
     },
     "execution_count": 144,
     "metadata": {},
     "output_type": "execute_result"
    }
   ],
   "source": [
    "df"
   ],
   "metadata": {
    "collapsed": false,
    "pycharm": {
     "name": "#%%\n"
    }
   }
  },
  {
   "cell_type": "markdown",
   "source": [
    "## 4 - EDA"
   ],
   "metadata": {
    "collapsed": false
   }
  },
  {
   "cell_type": "markdown",
   "source": [
    "O EDA vai estar divido em três secções:\n",
    "- Compreensão dos dados clínicos\n",
    "- Análise por tabelas de valores (value_counts entre outros)\n",
    "- Análise por gráficos"
   ],
   "metadata": {
    "collapsed": false
   }
  },
  {
   "cell_type": "markdown",
   "source": [
    "### Compriender os dados\n",
    "\n",
    "#### Exame ECG\n",
    "O ECG deteta os sinais elétricos do coração, ou seja, o tempo e a força dos impulsos elétricos\n",
    "no coração. Cada contração do músculo cardíaco ou das válvulas cardíacas emite um impulso\n",
    "elétrico comparável com um padrão considerado normal.\n",
    "\n",
    "Por esse motivo, é o exame indicado para o despiste de arritmias cardíacas ou para a deteção\n",
    "precoce de indicadores de isquemia cardíaca.\n",
    "\n",
    "De notar que um resultado “normal” neste exame, não é suficiente para excluir uma doença\n",
    "cardiovascular.\n",
    "\n",
    "\n",
    "#### Angina\n",
    "Angina is pain in the chest that comes on with exercise, stress, or other things that make the\n",
    "heart work harder. It is an extremely common symptom of coronary artery disease,\n",
    "which is caused by cholesterol-clogged coronary arteries.\n"
   ],
   "metadata": {
    "collapsed": false,
    "pycharm": {
     "name": "#%% md\n"
    }
   }
  },
  {
   "cell_type": "markdown",
   "source": [
    "#### Distribuição por género"
   ],
   "metadata": {
    "collapsed": false,
    "pycharm": {
     "name": "#%% md\n"
    }
   }
  },
  {
   "cell_type": "code",
   "execution_count": 145,
   "outputs": [
    {
     "data": {
      "text/plain": "<AxesSubplot:ylabel='Sex'>"
     },
     "execution_count": 145,
     "metadata": {},
     "output_type": "execute_result"
    },
    {
     "data": {
      "text/plain": "<Figure size 432x288 with 1 Axes>",
      "image/png": "[encoded data removed]"
     },
     "metadata": {},
     "output_type": "display_data"
    }
   ],
   "source": [
    "df['Sex'].value_counts().plot(kind='pie', autopct='%1.0f%%', colors=[\"blue\", \"pink\"])"
   ],
   "metadata": {
    "collapsed": false,
    "pycharm": {
     "name": "#%%\n"
    }
   }
  },
  {
   "cell_type": "markdown",
   "source": [
    "Verifica-se que aproximadamente 4 em 5 individous neste conjunto de dados são homems"
   ],
   "metadata": {
    "collapsed": false,
    "pycharm": {
     "name": "#%% md\n"
    }
   }
  },
  {
   "cell_type": "markdown",
   "source": [
    "#### Registos de doenças de coração"
   ],
   "metadata": {
    "collapsed": false,
    "pycharm": {
     "name": "#%% md\n"
    }
   }
  },
  {
   "cell_type": "code",
   "execution_count": 146,
   "outputs": [
    {
     "data": {
      "text/plain": "<AxesSubplot:ylabel='HeartDisease'>"
     },
     "execution_count": 146,
     "metadata": {},
     "output_type": "execute_result"
    },
    {
     "data": {
      "text/plain": "<Figure size 432x288 with 1 Axes>",
      "image/png": "[encoded data removed]"
     },
     "metadata": {},
     "output_type": "display_data"
    }
   ],
   "source": [
    "df['HeartDisease'].value_counts().plot(kind='pie', autopct='%1.0f%%', colors=[\"red\", \"green\"])"
   ],
   "metadata": {
    "collapsed": false,
    "pycharm": {
     "name": "#%%\n"
    }
   }
  },
  {
   "cell_type": "markdown",
   "source": [
    "O dataset aparenta ser quase balanceado neste aspeto, uma vez que existem quase tantos casos com\n",
    "doença de coração como sem."
   ],
   "metadata": {
    "collapsed": false,
    "pycharm": {
     "name": "#%% md\n"
    }
   }
  },
  {
   "cell_type": "markdown",
   "source": [
    "#### Distribuição por idades"
   ],
   "metadata": {
    "collapsed": false,
    "pycharm": {
     "name": "#%% md\n"
    }
   }
  },
  {
   "cell_type": "code",
   "execution_count": 147,
   "outputs": [
    {
     "data": {
      "text/plain": "<AxesSubplot:>"
     },
     "execution_count": 147,
     "metadata": {},
     "output_type": "execute_result"
    },
    {
     "data": {
      "text/plain": "<Figure size 432x288 with 1 Axes>",
      "image/png": "[encoded data removed]"
     },
     "metadata": {},
     "output_type": "display_data"
    }
   ],
   "source": [
    "df_heart_disease = df[df.HeartDisease.apply(lambda x: x == 1)]\n",
    "df['Age'].hist()\n",
    "df_heart_disease['Age'].hist()"
   ],
   "metadata": {
    "collapsed": false,
    "pycharm": {
     "name": "#%%\n"
    }
   }
  },
  {
   "cell_type": "markdown",
   "source": [
    "Ao analisar a distribuição de idades constata-se que a maior parte dos individuos tem entre 50 e 65 anos.\n",
    "\n",
    "Ao comparar-se a distribuição das idades com as idades em que individuos sofrem de\n",
    "doenças do coração verifica-se que esta é mais comum na faixa etária entre os 55 e 65 anos"
   ],
   "metadata": {
    "collapsed": false,
    "pycharm": {
     "name": "#%% md\n"
    }
   }
  },
  {
   "cell_type": "code",
   "execution_count": 148,
   "outputs": [
    {
     "name": "stdout",
     "output_type": "stream",
     "text": [
      "Sex            0    1\n",
      "age_category         \n",
      "1              1    9\n",
      "2             10  105\n",
      "3             36  290\n",
      "4              3   54\n"
     ]
    },
    {
     "data": {
      "text/plain": "<Figure size 432x288 with 1 Axes>",
      "image/png": "[encoded data removed]"
     },
     "metadata": {},
     "output_type": "display_data"
    }
   ],
   "source": [
    "counts = df_heart_disease.groupby(['age_category', 'Sex']).Age.count().unstack()\n",
    "print(counts)\n",
    "\n",
    "ax = counts.plot(kind='bar',stacked = False, colormap = 'Paired')\n",
    "\n",
    "for p in ax.patches:\n",
    "        ax.annotate(np.round(p.get_height(),decimals=0).astype(np.int64), (p.get_x()+p.get_width()/2., p.get_height()), ha='center', va='center', xytext=(2, 10), textcoords='offset points')\n",
    "\n",
    "ax.set_xticklabels(['20-35','36-51','51-66','67-100'])\n",
    "plt.xlabel ('Age Group')\n",
    "plt.ylabel ('Heart Disease')\n",
    "plt.title('Comparison of heart disease by gender in an age group \\n',fontsize=20)\n",
    "plt.show()"
   ],
   "metadata": {
    "collapsed": false,
    "pycharm": {
     "name": "#%%\n"
    }
   }
  },
  {
   "cell_type": "markdown",
   "source": [
    "Filtrando os dados por individuos apenas com doença de coração, e tendo em conta a desproporção do género neste dataset\n",
    "verifica-se que homems entre os 51 e os 66 anos sofrem ligeiramente mais com esta doença."
   ],
   "metadata": {
    "collapsed": false,
    "pycharm": {
     "name": "#%% md\n"
    }
   }
  },
  {
   "cell_type": "markdown",
   "source": [
    "#### Niveis de colestrol"
   ],
   "metadata": {
    "collapsed": false,
    "pycharm": {
     "name": "#%% md\n"
    }
   }
  },
  {
   "cell_type": "code",
   "execution_count": 149,
   "outputs": [
    {
     "data": {
      "text/plain": "High      0.649237\nLow       0.194989\nNormal    0.155773\nName: Cholesterol_type, dtype: float64"
     },
     "execution_count": 149,
     "metadata": {},
     "output_type": "execute_result"
    }
   ],
   "source": [
    "df['Cholesterol_type'].value_counts(normalize=True)"
   ],
   "metadata": {
    "collapsed": false,
    "pycharm": {
     "name": "#%%\n"
    }
   }
  },
  {
   "cell_type": "code",
   "execution_count": 150,
   "outputs": [
    {
     "data": {
      "text/plain": "(array([[596.,   0.,   0.,   0.,   0., 143.,   0.,   0.,   0., 179.],\n        [297.,   0.,   0.,   0.,   0.,  54.,   0.,   0.,   0., 157.]]),\n array([0. , 0.2, 0.4, 0.6, 0.8, 1. , 1.2, 1.4, 1.6, 1.8, 2. ]),\n <a list of 2 BarContainer objects>)"
     },
     "execution_count": 150,
     "metadata": {},
     "output_type": "execute_result"
    },
    {
     "data": {
      "text/plain": "<Figure size 432x288 with 1 Axes>",
      "image/png": "[encoded data removed]"
     },
     "metadata": {},
     "output_type": "display_data"
    }
   ],
   "source": [
    "plt.hist([df['Cholesterol_type'], df_heart_disease['Cholesterol_type']], color=['r','b'], alpha=0.5)"
   ],
   "metadata": {
    "collapsed": false,
    "pycharm": {
     "name": "#%%\n"
    }
   }
  },
  {
   "cell_type": "code",
   "source": [
    "# Percentage of cholesterol_type in individuals with heart disease\n",
    "df_heart_disease['Cholesterol_type'].value_counts() / df['Cholesterol_type'].value_counts()"
   ],
   "metadata": {
    "collapsed": false,
    "pycharm": {
     "name": "#%%\n"
    }
   },
   "execution_count": 151,
   "outputs": [
    {
     "data": {
      "text/plain": "High      0.498322\nLow       0.877095\nNormal    0.377622\nName: Cholesterol_type, dtype: float64"
     },
     "execution_count": 151,
     "metadata": {},
     "output_type": "execute_result"
    }
   ]
  },
  {
   "cell_type": "markdown",
   "source": [
    "Comparando a ocorrência de doença de coração com os niveis de colestrol, é possivel verificar\n",
    "que 50% dos individuos com colestrol alto sofrem da mesma e que 88%\n",
    "dos que apresentam niveis baixos também.\n",
    "\n",
    "Esta analise demonstra também que em individuos com niveis normais de colestrol, a presença da doença\n",
    "é de 38%, contudo, é importante notar, que 64% dos individuos neste dataset apresenta niveis\n",
    "elevados de colestrol, o que pode comprometer a análise para outros niveis."
   ],
   "metadata": {
    "collapsed": false,
    "pycharm": {
     "name": "#%% md\n"
    }
   }
  },
  {
   "cell_type": "markdown",
   "source": [
    "#### Pressão Sanguinea"
   ],
   "metadata": {
    "collapsed": false,
    "pycharm": {
     "name": "#%% md\n"
    }
   }
  },
  {
   "cell_type": "code",
   "execution_count": 152,
   "outputs": [
    {
     "name": "stdout",
     "output_type": "stream",
     "text": [
      "Total\n",
      " Normal    0.758170\n",
      "High      0.239651\n",
      "Low       0.002179\n",
      "Name: RestingBP_type, dtype: float64 \n",
      "\n",
      "Heart Disease\n",
      " Normal    357\n",
      "High      150\n",
      "Low         1\n",
      "Name: RestingBP_type, dtype: int64\n"
     ]
    }
   ],
   "source": [
    "print('Total\\n',df['RestingBP_type'].value_counts(normalize=True), '\\n')\n",
    "print('Heart Disease\\n',df_heart_disease['RestingBP_type'].value_counts())"
   ],
   "metadata": {
    "collapsed": false,
    "pycharm": {
     "name": "#%%\n"
    }
   }
  },
  {
   "cell_type": "code",
   "execution_count": 153,
   "outputs": [
    {
     "data": {
      "text/plain": "(array([[696.,   0.,   0.,   0.,   0., 220.,   0.,   0.,   0.,   2.],\n        [357.,   0.,   0.,   0.,   0., 150.,   0.,   0.,   0.,   1.]]),\n array([0. , 0.2, 0.4, 0.6, 0.8, 1. , 1.2, 1.4, 1.6, 1.8, 2. ]),\n <a list of 2 BarContainer objects>)"
     },
     "execution_count": 153,
     "metadata": {},
     "output_type": "execute_result"
    },
    {
     "data": {
      "text/plain": "<Figure size 432x288 with 1 Axes>",
      "image/png": "[encoded data removed]"
     },
     "metadata": {},
     "output_type": "display_data"
    }
   ],
   "source": [
    "plt.hist([df['RestingBP_type'], df_heart_disease['RestingBP_type']], color=['r','b'], alpha=0.5)"
   ],
   "metadata": {
    "collapsed": false,
    "pycharm": {
     "name": "#%%\n"
    }
   }
  },
  {
   "cell_type": "code",
   "execution_count": 154,
   "outputs": [
    {
     "data": {
      "text/plain": "Normal    0.512931\nHigh      0.681818\nLow       0.500000\nName: RestingBP_type, dtype: float64"
     },
     "execution_count": 154,
     "metadata": {},
     "output_type": "execute_result"
    }
   ],
   "source": [
    "# Percentage of cholesterol_type in individuals with heart disease\n",
    "df_heart_disease['RestingBP_type'].value_counts() / df['RestingBP_type'].value_counts()"
   ],
   "metadata": {
    "collapsed": false,
    "pycharm": {
     "name": "#%%\n"
    }
   }
  },
  {
   "cell_type": "markdown",
   "source": [
    "Comparando a ocorrência de doença de coração com os niveis de pressão sanguinea, é possivel verificar\n",
    "que 68% dos individuos com pressão alta sofrem da mesma. Devido a este dataset não conter praticamente\n",
    "nenhuns casos de pressão baixa, não é possivel tirar conclusões sobre esta.\n",
    "\n",
    "Esta analise demonstra também que em individuos com niveis normais de pressão sanguinea, a presença da doença\n",
    "é de 50%, contudo, é importante notar, que estes são dados sobre pressão sanguinea em repouso, que pode\n",
    "para um quadro clinico, podem tirar grande disparidade da pressão sanguinea quando um individuo está em esforço."
   ],
   "metadata": {
    "collapsed": false
   }
  },
  {
   "cell_type": "markdown",
   "source": [
    "#### Outliers"
   ],
   "metadata": {
    "collapsed": false,
    "pycharm": {
     "name": "#%% md\n"
    }
   }
  },
  {
   "cell_type": "code",
   "execution_count": 155,
   "outputs": [
    {
     "name": "stdout",
     "output_type": "stream",
     "text": [
      "Metric features ['RestingBP', 'Cholesterol', 'MaxHR', 'Oldpeak']\n"
     ]
    },
    {
     "data": {
      "text/plain": "<Figure size 2016x1080 with 4 Axes>",
      "image/png": "[encoded data removed]"
     },
     "metadata": {},
     "output_type": "display_data"
    }
   ],
   "source": [
    "non_metric_features = [\"Age\", \"Sex\", \"ChestPainType\", \"FastingBS\", \"RestingECG\", \"ExerciseAngina\",\n",
    "                       \"ST_Slope\", \"HeartDisease\", \"Cholesterol_type\", \"RestingBP_type\", \"age_category\"]\n",
    "metric_features = df.columns.drop(non_metric_features).to_list()\n",
    "print(\"Metric features\", metric_features)\n",
    "\n",
    "sns.set()\n",
    "fig, axes = plt.subplots(2, ceil(len(metric_features) / 2), figsize=(28, 15))\n",
    "\n",
    "for ax, feat in zip(axes.flatten(), metric_features):\n",
    "    sns.boxplot(x=df[feat], ax=ax, color='steelblue')\n",
    "\n",
    "title = \"Numeric Variables' Box Plots\"\n",
    "plt.suptitle(title, y=0.95, fontsize=20)\n",
    "plt.show()"
   ],
   "metadata": {
    "collapsed": false,
    "pycharm": {
     "name": "#%%\n"
    }
   }
  },
  {
   "cell_type": "markdown",
   "source": [
    "Verifica-se a existência de alguns Outliars nas variaveis numéricas como nos dados da pressão sanguinea\n",
    "e niveis de colestrol, contudo, a existência destes “outliars” pode estar correlacionada com a presença\n",
    "de doença do coração, isto é, pode ser um fator que contribui para esta se manifestar.\n",
    "\n",
    "Assim, estes “outliars” não serão removidos."
   ],
   "metadata": {
    "collapsed": false,
    "pycharm": {
     "name": "#%% md\n"
    }
   }
  },
  {
   "cell_type": "code",
   "execution_count": 156,
   "outputs": [
    {
     "data": {
      "text/plain": "<AxesSubplot:>"
     },
     "execution_count": 156,
     "metadata": {},
     "output_type": "execute_result"
    },
    {
     "data": {
      "text/plain": "<Figure size 432x288 with 2 Axes>",
      "image/png": "[encoded data removed]"
     },
     "metadata": {},
     "output_type": "display_data"
    }
   ],
   "source": [
    "sns.heatmap(data=df.corr(), annot=True)"
   ],
   "metadata": {
    "collapsed": false,
    "pycharm": {
     "name": "#%%\n"
    }
   }
  },
  {
   "cell_type": "markdown",
   "source": [
    "Parece que os dados não se correlacionam diretamente, apenas destacando-se uma ligeira correlação entre doenças de coração e Angina durante exercício"
   ],
   "metadata": {
    "collapsed": false,
    "pycharm": {
     "name": "#%% md\n"
    }
   }
  },
  {
   "cell_type": "markdown",
   "source": [
    "## Machine learning"
   ],
   "metadata": {
    "collapsed": false,
    "pycharm": {
     "name": "#%% md\n"
    }
   }
  },
  {
   "cell_type": "markdown",
   "source": [
    "### Model Pipeline"
   ],
   "metadata": {
    "collapsed": false,
    "pycharm": {
     "name": "#%% md\n"
    }
   }
  },
  {
   "cell_type": "code",
   "execution_count": 237,
   "outputs": [],
   "source": [
    "def randomForestPredictPipeline(features, targets):\n",
    "    normalized_f = normalizeFeatures(features)\n",
    "    x_train, x_test, y_train, y_test = train_test_split(normalized_f,targets,test_size=0.8, random_state = 42)\n",
    "    rfc = RandomForestClassifier()\n",
    "    rfc.fit(x_train,y_train)\n",
    "    return rfc.score(x_test,y_test)"
   ],
   "metadata": {
    "collapsed": false,
    "pycharm": {
     "name": "#%%\n"
    }
   }
  },
  {
   "cell_type": "markdown",
   "source": [
    "#### Normalização dos dados"
   ],
   "metadata": {
    "collapsed": false
   }
  },
  {
   "cell_type": "code",
   "execution_count": 225,
   "outputs": [],
   "source": [
    "def normalizeFeatures(features):\n",
    "    scaler = StandardScaler()\n",
    "    scaler.fit(features)\n",
    "    return scaler.transform(features)"
   ],
   "metadata": {
    "collapsed": false,
    "pycharm": {
     "name": "#%%\n"
    }
   }
  },
  {
   "cell_type": "markdown",
   "source": [
    "#### Feature selection"
   ],
   "metadata": {
    "collapsed": false,
    "pycharm": {
     "name": "#%% md\n"
    }
   }
  },
  {
   "cell_type": "code",
   "execution_count": 159,
   "outputs": [],
   "source": [
    "targets = df[\"HeartDisease\"]\n",
    "inputs = df.drop([\"HeartDisease\", \"Cholesterol_type\", \"RestingBP_type\"],axis = 1)"
   ],
   "metadata": {
    "collapsed": false,
    "pycharm": {
     "name": "#%%\n"
    }
   }
  },
  {
   "cell_type": "markdown",
   "source": [
    "#### Normalização dos dados"
   ],
   "metadata": {
    "collapsed": false,
    "pycharm": {
     "name": "#%% md\n"
    }
   }
  },
  {
   "cell_type": "code",
   "execution_count": null,
   "outputs": [],
   "source": [
    "scaler = StandardScaler()\n",
    "scaler.fit(inputs)\n",
    "scaled_inputs = scaler.transform(inputs)"
   ],
   "metadata": {
    "collapsed": false,
    "pycharm": {
     "name": "#%%\n"
    }
   }
  },
  {
   "cell_type": "markdown",
   "source": [
    "#### Divisão dos dados"
   ],
   "metadata": {
    "collapsed": false
   }
  },
  {
   "cell_type": "code",
   "execution_count": null,
   "outputs": [],
   "source": [
    "x_train, x_test, y_train, y_test = train_test_split(scaled_inputs,targets,random_state = 42)"
   ],
   "metadata": {
    "collapsed": false,
    "pycharm": {
     "name": "#%%\n"
    }
   }
  },
  {
   "cell_type": "code",
   "execution_count": null,
   "outputs": [],
   "source": [
    "rfc = RandomForestClassifier()\n",
    "\n",
    "rfc.fit(x_train,y_train)"
   ],
   "metadata": {
    "collapsed": false,
    "pycharm": {
     "name": "#%%\n"
    }
   }
  },
  {
   "cell_type": "code",
   "execution_count": null,
   "outputs": [],
   "source": [
    "rfc.score(x_test,y_test)"
   ],
   "metadata": {
    "collapsed": false,
    "pycharm": {
     "name": "#%%\n"
    }
   }
  },
  {
   "cell_type": "code",
   "execution_count": 165,
   "outputs": [],
   "source": [
    "y_hat = rfc.predict(x_test)"
   ],
   "metadata": {
    "collapsed": false,
    "pycharm": {
     "name": "#%%\n"
    }
   }
  },
  {
   "cell_type": "code",
   "execution_count": 166,
   "outputs": [
    {
     "data": {
      "text/plain": "     Actual  Predicted\n668       0          0\n30        1          1\n377       1          1\n535       1          1\n807       0          0\n..      ...        ...\n259       0          0\n490       1          1\n302       1          1\n7         0          0\n892       0          0\n\n[230 rows x 2 columns]",
      "text/html": "<div>\n<style scoped>\n    .dataframe tbody tr th:only-of-type {\n        vertical-align: middle;\n    }\n\n    .dataframe tbody tr th {\n        vertical-align: top;\n    }\n\n    .dataframe thead th {\n        text-align: right;\n    }\n</style>\n<table border=\"1\" class=\"dataframe\">\n  <thead>\n    <tr style=\"text-align: right;\">\n      <th></th>\n      <th>Actual</th>\n      <th>Predicted</th>\n    </tr>\n  </thead>\n  <tbody>\n    <tr>\n      <th>668</th>\n      <td>0</td>\n      <td>0</td>\n    </tr>\n    <tr>\n      <th>30</th>\n      <td>1</td>\n      <td>1</td>\n    </tr>\n    <tr>\n      <th>377</th>\n      <td>1</td>\n      <td>1</td>\n    </tr>\n    <tr>\n      <th>535</th>\n      <td>1</td>\n      <td>1</td>\n    </tr>\n    <tr>\n      <th>807</th>\n      <td>0</td>\n      <td>0</td>\n    </tr>\n    <tr>\n      <th>...</th>\n      <td>...</td>\n      <td>...</td>\n    </tr>\n    <tr>\n      <th>259</th>\n      <td>0</td>\n      <td>0</td>\n    </tr>\n    <tr>\n      <th>490</th>\n      <td>1</td>\n      <td>1</td>\n    </tr>\n    <tr>\n      <th>302</th>\n      <td>1</td>\n      <td>1</td>\n    </tr>\n    <tr>\n      <th>7</th>\n      <td>0</td>\n      <td>0</td>\n    </tr>\n    <tr>\n      <th>892</th>\n      <td>0</td>\n      <td>0</td>\n    </tr>\n  </tbody>\n</table>\n<p>230 rows × 2 columns</p>\n</div>"
     },
     "execution_count": 166,
     "metadata": {},
     "output_type": "execute_result"
    }
   ],
   "source": [
    "final_result = pd.DataFrame({'Actual': y_test, 'Predicted': y_hat})\n",
    "final_result"
   ],
   "metadata": {
    "collapsed": false,
    "pycharm": {
     "name": "#%%\n"
    }
   }
  },
  {
   "cell_type": "markdown",
   "source": [
    "Precisão"
   ],
   "metadata": {
    "collapsed": false,
    "pycharm": {
     "name": "#%% md\n"
    }
   }
  },
  {
   "cell_type": "code",
   "execution_count": 167,
   "outputs": [
    {
     "name": "stdout",
     "output_type": "stream",
     "text": [
      "Acuraccy: 89.0%\n"
     ]
    }
   ],
   "source": [
    "print(f\"Acuraccy: {round(rfc.score(x_test,y_test),2)*100}%\")"
   ],
   "metadata": {
    "collapsed": false,
    "pycharm": {
     "name": "#%%\n"
    }
   }
  },
  {
   "cell_type": "markdown",
   "source": [
    "### Improved Feature Selection"
   ],
   "metadata": {
    "collapsed": false,
    "pycharm": {
     "name": "#%% md\n"
    }
   }
  },
  {
   "cell_type": "markdown",
   "source": [
    "Agora que temos uma baseline definida, vamos tentar melhorar o modelo, fazendo uma melhor feature selection"
   ],
   "metadata": {
    "collapsed": false,
    "pycharm": {
     "name": "#%% md\n"
    }
   }
  },
  {
   "cell_type": "markdown",
   "source": [
    "#### Filter by variance\n",
    "\n",
    "Variaveis com pouca variedade geralmente não são boas para modelos efeitos de previsão, por isso\n",
    "podem ser descartadas."
   ],
   "metadata": {
    "collapsed": false,
    "pycharm": {
     "name": "#%% md\n"
    }
   }
  },
  {
   "cell_type": "code",
   "execution_count": 168,
   "outputs": [
    {
     "name": "stderr",
     "output_type": "stream",
     "text": [
      "/var/folders/7r/g2lhjv3x7bb_lgcnhj7_q9hr0000gn/T/ipykernel_2647/1846392557.py:3: FutureWarning: Dropping of nuisance columns in DataFrame reductions (with 'numeric_only=None') is deprecated; in a future version this will raise TypeError.  Select only valid columns before calling the reduction.\n",
      "  df_features.var()\n"
     ]
    },
    {
     "data": {
      "text/plain": "Age                  88.974254\nSex                   0.166220\nChestPainType         0.914929\nRestingBP           342.773903\nCholesterol       11964.891079\nFastingBS             0.178968\nRestingECG            0.399009\nMaxHR               648.228614\nExerciseAngina        0.241073\nOldpeak               1.137572\nST_Slope              0.368517\nage_category          0.454661\ndtype: float64"
     },
     "execution_count": 168,
     "metadata": {},
     "output_type": "execute_result"
    }
   ],
   "source": [
    "df_features = df.drop(\"HeartDisease\",axis = 1)\n",
    "df_features.var()"
   ],
   "metadata": {
    "collapsed": false,
    "pycharm": {
     "name": "#%%\n"
    }
   }
  },
  {
   "cell_type": "markdown",
   "source": [
    "#### Filter by correlation"
   ],
   "metadata": {
    "collapsed": false
   }
  },
  {
   "cell_type": "code",
   "execution_count": 176,
   "outputs": [
    {
     "data": {
      "text/plain": "Age               0.282039\nSex               0.305445\nChestPainType     0.386828\nRestingBP         0.107589\nCholesterol       0.232741\nFastingBS         0.267291\nRestingECG        0.057384\nMaxHR             0.400421\nExerciseAngina    0.494282\nOldpeak           0.403951\nST_Slope          0.558771\nHeartDisease      1.000000\nage_category      0.224991\nName: HeartDisease, dtype: float64"
     },
     "execution_count": 176,
     "metadata": {},
     "output_type": "execute_result"
    }
   ],
   "source": [
    "abs(df.corr()['HeartDisease'])"
   ],
   "metadata": {
    "collapsed": false,
    "pycharm": {
     "name": "#%%\n"
    }
   }
  },
  {
   "cell_type": "markdown",
   "source": [
    "Este tipo da análise permite ver que apesar de a coluna 'ST_Slope' ter baixa variância, é a que apresenta maior\n",
    "correlação com a existência de doença do coração."
   ],
   "metadata": {
    "collapsed": false,
    "pycharm": {
     "name": "#%% md\n"
    }
   }
  },
  {
   "cell_type": "code",
   "execution_count": 242,
   "outputs": [],
   "source": [
    "# Mantem todas as colunas com correlação superior a 30%\n",
    "high_corr_cols = abs(df.corr()['HeartDisease'][abs(df.corr()['HeartDisease'])>0.3].drop('HeartDisease')).index.tolist()"
   ],
   "metadata": {
    "collapsed": false,
    "pycharm": {
     "name": "#%%\n"
    }
   }
  },
  {
   "cell_type": "code",
   "execution_count": 215,
   "outputs": [
    {
     "data": {
      "text/plain": "     Sex  ChestPainType  MaxHR  ExerciseAngina  Oldpeak  ST_Slope\n0      1              1    172               0      0.0         2\n1      0              2    156               0      1.0         1\n2      1              1     98               0      0.0         2\n3      0              0    108               1      1.5         1\n4      1              2    122               0      0.0         2\n..   ...            ...    ...             ...      ...       ...\n913    1              3    132               0      1.2         1\n914    1              0    141               0      3.4         1\n915    1              0    115               1      1.2         1\n916    0              1    174               0      0.0         1\n917    1              2    173               0      0.0         2\n\n[918 rows x 6 columns]",
      "text/html": "<div>\n<style scoped>\n    .dataframe tbody tr th:only-of-type {\n        vertical-align: middle;\n    }\n\n    .dataframe tbody tr th {\n        vertical-align: top;\n    }\n\n    .dataframe thead th {\n        text-align: right;\n    }\n</style>\n<table border=\"1\" class=\"dataframe\">\n  <thead>\n    <tr style=\"text-align: right;\">\n      <th></th>\n      <th>Sex</th>\n      <th>ChestPainType</th>\n      <th>MaxHR</th>\n      <th>ExerciseAngina</th>\n      <th>Oldpeak</th>\n      <th>ST_Slope</th>\n    </tr>\n  </thead>\n  <tbody>\n    <tr>\n      <th>0</th>\n      <td>1</td>\n      <td>1</td>\n      <td>172</td>\n      <td>0</td>\n      <td>0.0</td>\n      <td>2</td>\n    </tr>\n    <tr>\n      <th>1</th>\n      <td>0</td>\n      <td>2</td>\n      <td>156</td>\n      <td>0</td>\n      <td>1.0</td>\n      <td>1</td>\n    </tr>\n    <tr>\n      <th>2</th>\n      <td>1</td>\n      <td>1</td>\n      <td>98</td>\n      <td>0</td>\n      <td>0.0</td>\n      <td>2</td>\n    </tr>\n    <tr>\n      <th>3</th>\n      <td>0</td>\n      <td>0</td>\n      <td>108</td>\n      <td>1</td>\n      <td>1.5</td>\n      <td>1</td>\n    </tr>\n    <tr>\n      <th>4</th>\n      <td>1</td>\n      <td>2</td>\n      <td>122</td>\n      <td>0</td>\n      <td>0.0</td>\n      <td>2</td>\n    </tr>\n    <tr>\n      <th>...</th>\n      <td>...</td>\n      <td>...</td>\n      <td>...</td>\n      <td>...</td>\n      <td>...</td>\n      <td>...</td>\n    </tr>\n    <tr>\n      <th>913</th>\n      <td>1</td>\n      <td>3</td>\n      <td>132</td>\n      <td>0</td>\n      <td>1.2</td>\n      <td>1</td>\n    </tr>\n    <tr>\n      <th>914</th>\n      <td>1</td>\n      <td>0</td>\n      <td>141</td>\n      <td>0</td>\n      <td>3.4</td>\n      <td>1</td>\n    </tr>\n    <tr>\n      <th>915</th>\n      <td>1</td>\n      <td>0</td>\n      <td>115</td>\n      <td>1</td>\n      <td>1.2</td>\n      <td>1</td>\n    </tr>\n    <tr>\n      <th>916</th>\n      <td>0</td>\n      <td>1</td>\n      <td>174</td>\n      <td>0</td>\n      <td>0.0</td>\n      <td>1</td>\n    </tr>\n    <tr>\n      <th>917</th>\n      <td>1</td>\n      <td>2</td>\n      <td>173</td>\n      <td>0</td>\n      <td>0.0</td>\n      <td>2</td>\n    </tr>\n  </tbody>\n</table>\n<p>918 rows × 6 columns</p>\n</div>"
     },
     "execution_count": 215,
     "metadata": {},
     "output_type": "execute_result"
    }
   ],
   "source": [
    "df_features = df[high_corr_cols]\n",
    "df_features"
   ],
   "metadata": {
    "collapsed": false,
    "pycharm": {
     "name": "#%%\n"
    }
   }
  },
  {
   "cell_type": "code",
   "execution_count": 241,
   "outputs": [],
   "source": [
    "targets = df[\"HeartDisease\"]\n",
    "inputs = df_features"
   ],
   "metadata": {
    "collapsed": false,
    "pycharm": {
     "name": "#%%\n"
    }
   }
  },
  {
   "cell_type": "code",
   "execution_count": 238,
   "outputs": [
    {
     "name": "stdout",
     "output_type": "stream",
     "text": [
      "min correlation: 0.1 - precision: 0.8585034013605443 \n",
      "\n",
      "min correlation: 0.2 - precision: 0.8598639455782313 \n",
      "\n",
      "min correlation: 0.3 - precision: 0.8367346938775511 \n",
      "\n",
      "min correlation: 0.4 - precision: 0.7863945578231293 \n",
      "\n",
      "min correlation: 0.5 - precision: 0.8136054421768707 \n",
      "\n"
     ]
    }
   ],
   "source": [
    "vals = [0.1, 0.2, 0.3, 0.4, 0.5]\n",
    "\n",
    "for val in vals:\n",
    "    high_corr_cols = abs(df.corr()['HeartDisease'][abs(df.corr()['HeartDisease'])>val].drop('HeartDisease')).index.tolist()\n",
    "    df_features = df[high_corr_cols]\n",
    "    targets = df[\"HeartDisease\"]\n",
    "    inputs = df_features\n",
    "    print('min correlation:',val,'- precision:',randomForestPredictPipeline(inputs, targets),'\\n')\n"
   ],
   "metadata": {
    "collapsed": false,
    "pycharm": {
     "name": "#%%\n"
    }
   }
  }
 ],
 "metadata": {
  "kernelspec": {
   "display_name": "Python 3",
   "language": "python",
   "name": "python3"
  },
  "language_info": {
   "codemirror_mode": {
    "name": "ipython",
    "version": 2
   },
   "file_extension": ".py",
   "mimetype": "text/x-python",
   "name": "python",
   "nbconvert_exporter": "python",
   "pygments_lexer": "ipython2",
   "version": "2.7.6"
  },
  "pycharm": {
   "stem_cell": {
    "cell_type": "raw",
    "source": [
     "O trabalho vai ser dividido nas seguintes partes:\n",
     "\n",
     "Definição do problema\n",
     "Aquisição dos dados\n",
     "Data Wrangling - Limpeza e manipulação do dataset de forma a obter novas variáveis para poder analisar\n",
     "EDA - Análise exploratória dos dados e a sua interpretação\n",
     "Modelação preditiva - Criação de algoritmos de machine learning\n"
    ],
    "metadata": {
     "collapsed": false
    }
   }
  }
 },
 "nbformat": 4,
 "nbformat_minor": 0
}