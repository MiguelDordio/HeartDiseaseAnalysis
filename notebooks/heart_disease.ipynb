{
 "cells": [
  {
   "cell_type": "markdown",
   "metadata": {
    "collapsed": true,
    "pycharm": {
     "name": "#%% md\n"
    }
   },
   "source": [
    "### 1 - Definição do problema\n",
    "\n",
    "Doenças cardiovasculares são a causa número 1 de mortes num contexto global. Representando 31% do total de mortes anuais\n",
    "mundialmente.\n",
    "\n",
    "Individuos que sofrem de doença cardiovascular ou estão em risco de sofrer (devido à presença de um ou mais fatores,\n",
    "considerados de risco, como, hipertensão, diabetes, hiperlipidemia ou devido a outra doença), beneficiam de uma prematura\n",
    "deteção e gestão para minimizar o risco de um agravamento de sintomas ou até manisfestação da doença.\n",
    "\n",
    "Assim, é importante analisar dados clinicos de atuais pacientes e individous já considerados de risco, de maneira a\n",
    "poder-se melhorar a capacidade de deteção de indícios da manisfestação da doença, por forma de melhor evitá-la ou pelo\n",
    "menos mitigar os seus efeitos."
   ]
  },
  {
   "cell_type": "markdown",
   "source": [
    "### 2 - Aquisição dos dados\n",
    "Os dados utilizados para este trabalho foram retirados do Kaggle em https://www.kaggle.com/fedesoriano/heart-failure-prediction\n",
    "e representam um agregado de conjuntos de dados clínicos de pacientes das seguintes instituições:\n",
    "\n",
    "* Cleveland: 303 observations\n",
    "* Hungarian: 294 observations\n",
    "* Switzerland: 123 observations\n",
    "* Long Beach VA: 200 observations\n",
    "* Stalog (Heart) Data Set: 270 observations\n",
    "\n",
    "E fornecidos por:\n",
    "\n",
    "1. Hungarian Institute of Cardiology. Budapest: Andras Janosi, M.D.\n",
    "2. University Hospital, Zurich, Switzerland: William Steinbrunn, M.D.\n",
    "3. University Hospital, Basel, Switzerland: Matthias Pfisterer, M.D.\n",
    "4. V.A. Medical Center, Long Beach and Cleveland Clinic Foundation: Robert Detrano, M.D., Ph.D.\n",
    "\n",
    "Estes dados já tinham sido anteriormente ligeiramente preparados, isto, é, já tinha sido feito uma remoção prévia de\n",
    "dados duplicados.\n"
   ],
   "metadata": {
    "collapsed": false
   }
  },
  {
   "cell_type": "markdown",
   "source": [
    "## 3 - Data Wrangling\n",
    "\n",
    "Nesta etapa as seguintes tarefas vão ser realizadas:\n",
    "- Importar o dataset e fazer a limpeza de valores NaN (vazios)\n",
    "- Renomear algumas colunas para melhor compreensão dos dados\n",
    "- Converter nomenclaturas/abreviações para melhor processamento de dados\n",
    "- Criar uma nova coluna de faixas etárias para agrupar os diferentes individuos\n",
    "- Criar novas colunas indicando se os niveis de colestrol, batimento cardiacos\n",
    "são normais, acima ou abaixo da média\n",
    "\n",
    "Importar as bibliotecas que vão ser utilizadas"
   ],
   "metadata": {
    "collapsed": false
   }
  },
  {
   "cell_type": "code",
   "execution_count": 636,
   "outputs": [],
   "source": [
    "import numpy as np\n",
    "import pandas as pd\n",
    "from datetime import datetime\n",
    "import matplotlib.pyplot as plt\n",
    "from matplotlib_venn import venn2, venn3\n",
    "from sklearn.neighbors import KNeighborsClassifier\n",
    "from sklearn.svm import SVC\n",
    "from upsetplot import plot\n",
    "import seaborn as sns\n",
    "from math import ceil\n",
    "sns.set()"
   ],
   "metadata": {
    "collapsed": false,
    "pycharm": {
     "name": "#%%\n"
    }
   }
  },
  {
   "cell_type": "markdown",
   "source": [
    "Machine Learning algorithms"
   ],
   "metadata": {
    "collapsed": false
   }
  },
  {
   "cell_type": "code",
   "execution_count": 635,
   "outputs": [],
   "source": [
    "from sklearn.ensemble import RandomForestClassifier #Random Forest\n",
    "from sklearn.model_selection import train_test_split, GridSearchCV #training and testing data split\n",
    "from sklearn import metrics #accuracy measure\n",
    "from sklearn.preprocessing import MinMaxScaler, StandardScaler\n",
    "from sklearn.metrics import classification_report, confusion_matrix, accuracy_score  # for confusion matrix\n",
    "from sklearn.preprocessing import LabelEncoder"
   ],
   "metadata": {
    "collapsed": false,
    "pycharm": {
     "name": "#%%\n"
    }
   }
  },
  {
   "cell_type": "markdown",
   "source": [
    "Importar o dataset"
   ],
   "metadata": {
    "collapsed": false
   }
  },
  {
   "cell_type": "code",
   "execution_count": 557,
   "outputs": [
    {
     "data": {
      "text/plain": "     Age Sex ChestPainType  RestingBP  Cholesterol  FastingBS RestingECG  \\\n0     40   M           ATA        140          289          0     Normal   \n1     49   F           NAP        160          180          0     Normal   \n2     37   M           ATA        130          283          0         ST   \n3     48   F           ASY        138          214          0     Normal   \n4     54   M           NAP        150          195          0     Normal   \n..   ...  ..           ...        ...          ...        ...        ...   \n913   45   M            TA        110          264          0     Normal   \n914   68   M           ASY        144          193          1     Normal   \n915   57   M           ASY        130          131          0     Normal   \n916   57   F           ATA        130          236          0        LVH   \n917   38   M           NAP        138          175          0     Normal   \n\n     MaxHR ExerciseAngina  Oldpeak ST_Slope  HeartDisease  \n0      172              N      0.0       Up             0  \n1      156              N      1.0     Flat             1  \n2       98              N      0.0       Up             0  \n3      108              Y      1.5     Flat             1  \n4      122              N      0.0       Up             0  \n..     ...            ...      ...      ...           ...  \n913    132              N      1.2     Flat             1  \n914    141              N      3.4     Flat             1  \n915    115              Y      1.2     Flat             1  \n916    174              N      0.0     Flat             1  \n917    173              N      0.0       Up             0  \n\n[918 rows x 12 columns]",
      "text/html": "<div>\n<style scoped>\n    .dataframe tbody tr th:only-of-type {\n        vertical-align: middle;\n    }\n\n    .dataframe tbody tr th {\n        vertical-align: top;\n    }\n\n    .dataframe thead th {\n        text-align: right;\n    }\n</style>\n<table border=\"1\" class=\"dataframe\">\n  <thead>\n    <tr style=\"text-align: right;\">\n      <th></th>\n      <th>Age</th>\n      <th>Sex</th>\n      <th>ChestPainType</th>\n      <th>RestingBP</th>\n      <th>Cholesterol</th>\n      <th>FastingBS</th>\n      <th>RestingECG</th>\n      <th>MaxHR</th>\n      <th>ExerciseAngina</th>\n      <th>Oldpeak</th>\n      <th>ST_Slope</th>\n      <th>HeartDisease</th>\n    </tr>\n  </thead>\n  <tbody>\n    <tr>\n      <th>0</th>\n      <td>40</td>\n      <td>M</td>\n      <td>ATA</td>\n      <td>140</td>\n      <td>289</td>\n      <td>0</td>\n      <td>Normal</td>\n      <td>172</td>\n      <td>N</td>\n      <td>0.0</td>\n      <td>Up</td>\n      <td>0</td>\n    </tr>\n    <tr>\n      <th>1</th>\n      <td>49</td>\n      <td>F</td>\n      <td>NAP</td>\n      <td>160</td>\n      <td>180</td>\n      <td>0</td>\n      <td>Normal</td>\n      <td>156</td>\n      <td>N</td>\n      <td>1.0</td>\n      <td>Flat</td>\n      <td>1</td>\n    </tr>\n    <tr>\n      <th>2</th>\n      <td>37</td>\n      <td>M</td>\n      <td>ATA</td>\n      <td>130</td>\n      <td>283</td>\n      <td>0</td>\n      <td>ST</td>\n      <td>98</td>\n      <td>N</td>\n      <td>0.0</td>\n      <td>Up</td>\n      <td>0</td>\n    </tr>\n    <tr>\n      <th>3</th>\n      <td>48</td>\n      <td>F</td>\n      <td>ASY</td>\n      <td>138</td>\n      <td>214</td>\n      <td>0</td>\n      <td>Normal</td>\n      <td>108</td>\n      <td>Y</td>\n      <td>1.5</td>\n      <td>Flat</td>\n      <td>1</td>\n    </tr>\n    <tr>\n      <th>4</th>\n      <td>54</td>\n      <td>M</td>\n      <td>NAP</td>\n      <td>150</td>\n      <td>195</td>\n      <td>0</td>\n      <td>Normal</td>\n      <td>122</td>\n      <td>N</td>\n      <td>0.0</td>\n      <td>Up</td>\n      <td>0</td>\n    </tr>\n    <tr>\n      <th>...</th>\n      <td>...</td>\n      <td>...</td>\n      <td>...</td>\n      <td>...</td>\n      <td>...</td>\n      <td>...</td>\n      <td>...</td>\n      <td>...</td>\n      <td>...</td>\n      <td>...</td>\n      <td>...</td>\n      <td>...</td>\n    </tr>\n    <tr>\n      <th>913</th>\n      <td>45</td>\n      <td>M</td>\n      <td>TA</td>\n      <td>110</td>\n      <td>264</td>\n      <td>0</td>\n      <td>Normal</td>\n      <td>132</td>\n      <td>N</td>\n      <td>1.2</td>\n      <td>Flat</td>\n      <td>1</td>\n    </tr>\n    <tr>\n      <th>914</th>\n      <td>68</td>\n      <td>M</td>\n      <td>ASY</td>\n      <td>144</td>\n      <td>193</td>\n      <td>1</td>\n      <td>Normal</td>\n      <td>141</td>\n      <td>N</td>\n      <td>3.4</td>\n      <td>Flat</td>\n      <td>1</td>\n    </tr>\n    <tr>\n      <th>915</th>\n      <td>57</td>\n      <td>M</td>\n      <td>ASY</td>\n      <td>130</td>\n      <td>131</td>\n      <td>0</td>\n      <td>Normal</td>\n      <td>115</td>\n      <td>Y</td>\n      <td>1.2</td>\n      <td>Flat</td>\n      <td>1</td>\n    </tr>\n    <tr>\n      <th>916</th>\n      <td>57</td>\n      <td>F</td>\n      <td>ATA</td>\n      <td>130</td>\n      <td>236</td>\n      <td>0</td>\n      <td>LVH</td>\n      <td>174</td>\n      <td>N</td>\n      <td>0.0</td>\n      <td>Flat</td>\n      <td>1</td>\n    </tr>\n    <tr>\n      <th>917</th>\n      <td>38</td>\n      <td>M</td>\n      <td>NAP</td>\n      <td>138</td>\n      <td>175</td>\n      <td>0</td>\n      <td>Normal</td>\n      <td>173</td>\n      <td>N</td>\n      <td>0.0</td>\n      <td>Up</td>\n      <td>0</td>\n    </tr>\n  </tbody>\n</table>\n<p>918 rows × 12 columns</p>\n</div>"
     },
     "execution_count": 557,
     "metadata": {},
     "output_type": "execute_result"
    }
   ],
   "source": [
    "df = pd.read_csv('../data/heart.csv', sep=\",\", encoding=\"utf-8\")\n",
    "df"
   ],
   "metadata": {
    "collapsed": false,
    "pycharm": {
     "name": "#%%\n"
    }
   }
  },
  {
   "cell_type": "code",
   "execution_count": 558,
   "outputs": [
    {
     "name": "stdout",
     "output_type": "stream",
     "text": [
      "<class 'pandas.core.frame.DataFrame'>\n",
      "RangeIndex: 918 entries, 0 to 917\n",
      "Data columns (total 12 columns):\n",
      " #   Column          Non-Null Count  Dtype  \n",
      "---  ------          --------------  -----  \n",
      " 0   Age             918 non-null    int64  \n",
      " 1   Sex             918 non-null    object \n",
      " 2   ChestPainType   918 non-null    object \n",
      " 3   RestingBP       918 non-null    int64  \n",
      " 4   Cholesterol     918 non-null    int64  \n",
      " 5   FastingBS       918 non-null    int64  \n",
      " 6   RestingECG      918 non-null    object \n",
      " 7   MaxHR           918 non-null    int64  \n",
      " 8   ExerciseAngina  918 non-null    object \n",
      " 9   Oldpeak         918 non-null    float64\n",
      " 10  ST_Slope        918 non-null    object \n",
      " 11  HeartDisease    918 non-null    int64  \n",
      "dtypes: float64(1), int64(6), object(5)\n",
      "memory usage: 86.2+ KB\n"
     ]
    }
   ],
   "source": [
    "df.info()"
   ],
   "metadata": {
    "collapsed": false,
    "pycharm": {
     "name": "#%%\n"
    }
   }
  },
  {
   "cell_type": "code",
   "execution_count": 559,
   "outputs": [
    {
     "data": {
      "text/plain": "(918, 12)"
     },
     "execution_count": 559,
     "metadata": {},
     "output_type": "execute_result"
    }
   ],
   "source": [
    "df.drop_duplicates()\n",
    "df.shape"
   ],
   "metadata": {
    "collapsed": false,
    "pycharm": {
     "name": "#%%\n"
    }
   }
  },
  {
   "cell_type": "markdown",
   "source": [
    "The dataset doesn't contain any nulls by default or duplicated values."
   ],
   "metadata": {
    "collapsed": false
   }
  },
  {
   "cell_type": "markdown",
   "source": [
    "Vamos renomear algumas colunas para tornar os dados mais perceptiveis."
   ],
   "metadata": {
    "collapsed": false,
    "pycharm": {
     "name": "#%% md\n"
    }
   }
  },
  {
   "cell_type": "code",
   "execution_count": 560,
   "outputs": [],
   "source": [
    "df = df.rename(columns={'Sex': 'Gender', 'FastingBS': 'Diabetes', 'MaxHR': 'MaxHeartRate', 'Oldpeak': 'STDeviation',})"
   ],
   "metadata": {
    "collapsed": false,
    "pycharm": {
     "name": "#%%\n"
    }
   }
  },
  {
   "cell_type": "code",
   "execution_count": 561,
   "outputs": [],
   "source": [
    "# numeric value columns\n",
    "metric_features = ['Age', 'RestingBP', 'Cholesterol', 'MaxHeartRate', 'STDeviation']"
   ],
   "metadata": {
    "collapsed": false,
    "pycharm": {
     "name": "#%%\n"
    }
   }
  },
  {
   "cell_type": "markdown",
   "source": [
    "Now lets take a look at the non-metric columns"
   ],
   "metadata": {
    "collapsed": false,
    "pycharm": {
     "name": "#%% md\n"
    }
   }
  },
  {
   "cell_type": "code",
   "execution_count": 562,
   "outputs": [
    {
     "name": "stdout",
     "output_type": "stream",
     "text": [
      "M    0.78976\n",
      "F    0.21024\n",
      "Name: Gender, dtype: float64 \n",
      "\n",
      "ASY    0.540305\n",
      "NAP    0.221133\n",
      "ATA    0.188453\n",
      "TA     0.050109\n",
      "Name: ChestPainType, dtype: float64 \n",
      "\n",
      "Normal    0.601307\n",
      "LVH       0.204793\n",
      "ST        0.193900\n",
      "Name: RestingECG, dtype: float64 \n",
      "\n",
      "N    0.595861\n",
      "Y    0.404139\n",
      "Name: ExerciseAngina, dtype: float64 \n",
      "\n",
      "Flat    0.501089\n",
      "Up      0.430283\n",
      "Down    0.068627\n",
      "Name: ST_Slope, dtype: float64 \n",
      "\n"
     ]
    }
   ],
   "source": [
    "categorical = [\"Gender\", \"ChestPainType\", \"RestingECG\", \"ExerciseAngina\", \"ST_Slope\"]\n",
    "\n",
    "for value in categorical:\n",
    "    print(df[value].value_counts(normalize=True), \"\\n\")"
   ],
   "metadata": {
    "collapsed": false,
    "pycharm": {
     "name": "#%%\n"
    }
   }
  },
  {
   "cell_type": "markdown",
   "source": [
    "### Variables transformations"
   ],
   "metadata": {
    "collapsed": false
   }
  },
  {
   "cell_type": "markdown",
   "source": [
    "Since the column values seem to be specific categories, they can be converted in\n",
    "numerical values to facilitate processing"
   ],
   "metadata": {
    "collapsed": false,
    "pycharm": {
     "name": "#%% md\n"
    }
   }
  },
  {
   "cell_type": "code",
   "execution_count": 563,
   "outputs": [
    {
     "data": {
      "text/plain": "     Age  Gender  ChestPainType  RestingBP  Cholesterol  Diabetes  RestingECG  \\\n0     40       1              1        140          289         0           1   \n1     49       0              2        160          180         0           1   \n2     37       1              1        130          283         0           2   \n3     48       0              0        138          214         0           1   \n4     54       1              2        150          195         0           1   \n..   ...     ...            ...        ...          ...       ...         ...   \n913   45       1              3        110          264         0           1   \n914   68       1              0        144          193         1           1   \n915   57       1              0        130          131         0           1   \n916   57       0              1        130          236         0           0   \n917   38       1              2        138          175         0           1   \n\n     MaxHeartRate  ExerciseAngina  STDeviation  ST_Slope  HeartDisease  \n0             172               0          0.0         2             0  \n1             156               0          1.0         1             1  \n2              98               0          0.0         2             0  \n3             108               1          1.5         1             1  \n4             122               0          0.0         2             0  \n..            ...             ...          ...       ...           ...  \n913           132               0          1.2         1             1  \n914           141               0          3.4         1             1  \n915           115               1          1.2         1             1  \n916           174               0          0.0         1             1  \n917           173               0          0.0         2             0  \n\n[918 rows x 12 columns]",
      "text/html": "<div>\n<style scoped>\n    .dataframe tbody tr th:only-of-type {\n        vertical-align: middle;\n    }\n\n    .dataframe tbody tr th {\n        vertical-align: top;\n    }\n\n    .dataframe thead th {\n        text-align: right;\n    }\n</style>\n<table border=\"1\" class=\"dataframe\">\n  <thead>\n    <tr style=\"text-align: right;\">\n      <th></th>\n      <th>Age</th>\n      <th>Gender</th>\n      <th>ChestPainType</th>\n      <th>RestingBP</th>\n      <th>Cholesterol</th>\n      <th>Diabetes</th>\n      <th>RestingECG</th>\n      <th>MaxHeartRate</th>\n      <th>ExerciseAngina</th>\n      <th>STDeviation</th>\n      <th>ST_Slope</th>\n      <th>HeartDisease</th>\n    </tr>\n  </thead>\n  <tbody>\n    <tr>\n      <th>0</th>\n      <td>40</td>\n      <td>1</td>\n      <td>1</td>\n      <td>140</td>\n      <td>289</td>\n      <td>0</td>\n      <td>1</td>\n      <td>172</td>\n      <td>0</td>\n      <td>0.0</td>\n      <td>2</td>\n      <td>0</td>\n    </tr>\n    <tr>\n      <th>1</th>\n      <td>49</td>\n      <td>0</td>\n      <td>2</td>\n      <td>160</td>\n      <td>180</td>\n      <td>0</td>\n      <td>1</td>\n      <td>156</td>\n      <td>0</td>\n      <td>1.0</td>\n      <td>1</td>\n      <td>1</td>\n    </tr>\n    <tr>\n      <th>2</th>\n      <td>37</td>\n      <td>1</td>\n      <td>1</td>\n      <td>130</td>\n      <td>283</td>\n      <td>0</td>\n      <td>2</td>\n      <td>98</td>\n      <td>0</td>\n      <td>0.0</td>\n      <td>2</td>\n      <td>0</td>\n    </tr>\n    <tr>\n      <th>3</th>\n      <td>48</td>\n      <td>0</td>\n      <td>0</td>\n      <td>138</td>\n      <td>214</td>\n      <td>0</td>\n      <td>1</td>\n      <td>108</td>\n      <td>1</td>\n      <td>1.5</td>\n      <td>1</td>\n      <td>1</td>\n    </tr>\n    <tr>\n      <th>4</th>\n      <td>54</td>\n      <td>1</td>\n      <td>2</td>\n      <td>150</td>\n      <td>195</td>\n      <td>0</td>\n      <td>1</td>\n      <td>122</td>\n      <td>0</td>\n      <td>0.0</td>\n      <td>2</td>\n      <td>0</td>\n    </tr>\n    <tr>\n      <th>...</th>\n      <td>...</td>\n      <td>...</td>\n      <td>...</td>\n      <td>...</td>\n      <td>...</td>\n      <td>...</td>\n      <td>...</td>\n      <td>...</td>\n      <td>...</td>\n      <td>...</td>\n      <td>...</td>\n      <td>...</td>\n    </tr>\n    <tr>\n      <th>913</th>\n      <td>45</td>\n      <td>1</td>\n      <td>3</td>\n      <td>110</td>\n      <td>264</td>\n      <td>0</td>\n      <td>1</td>\n      <td>132</td>\n      <td>0</td>\n      <td>1.2</td>\n      <td>1</td>\n      <td>1</td>\n    </tr>\n    <tr>\n      <th>914</th>\n      <td>68</td>\n      <td>1</td>\n      <td>0</td>\n      <td>144</td>\n      <td>193</td>\n      <td>1</td>\n      <td>1</td>\n      <td>141</td>\n      <td>0</td>\n      <td>3.4</td>\n      <td>1</td>\n      <td>1</td>\n    </tr>\n    <tr>\n      <th>915</th>\n      <td>57</td>\n      <td>1</td>\n      <td>0</td>\n      <td>130</td>\n      <td>131</td>\n      <td>0</td>\n      <td>1</td>\n      <td>115</td>\n      <td>1</td>\n      <td>1.2</td>\n      <td>1</td>\n      <td>1</td>\n    </tr>\n    <tr>\n      <th>916</th>\n      <td>57</td>\n      <td>0</td>\n      <td>1</td>\n      <td>130</td>\n      <td>236</td>\n      <td>0</td>\n      <td>0</td>\n      <td>174</td>\n      <td>0</td>\n      <td>0.0</td>\n      <td>1</td>\n      <td>1</td>\n    </tr>\n    <tr>\n      <th>917</th>\n      <td>38</td>\n      <td>1</td>\n      <td>2</td>\n      <td>138</td>\n      <td>175</td>\n      <td>0</td>\n      <td>1</td>\n      <td>173</td>\n      <td>0</td>\n      <td>0.0</td>\n      <td>2</td>\n      <td>0</td>\n    </tr>\n  </tbody>\n</table>\n<p>918 rows × 12 columns</p>\n</div>"
     },
     "execution_count": 563,
     "metadata": {},
     "output_type": "execute_result"
    }
   ],
   "source": [
    "enc = LabelEncoder()\n",
    "\n",
    "# Gender: M -> 1 | F -> 0\n",
    "enc.fit(df['Gender'])\n",
    "df['Gender'] = enc.transform(df['Gender'])\n",
    "\n",
    "# ChestPainType: ASY -> 0 | ATA -> 1 | NAP -> 2 | TA -> 3\n",
    "enc.fit(df['ChestPainType'])\n",
    "df['ChestPainType'] = enc.transform(df['ChestPainType'])\n",
    "\n",
    "# RestingECG: LVH -> 0 | Normal -> 1 | ST -> 2\n",
    "enc.fit(df['RestingECG'])\n",
    "df['RestingECG'] = enc.transform(df['RestingECG'])\n",
    "\n",
    "# ExerciseAngina: N -> 0 | Y -> 1\n",
    "enc.fit(df['ExerciseAngina'])\n",
    "df['ExerciseAngina'] = enc.transform(df['ExerciseAngina'])\n",
    "\n",
    "# ST_Slope: Down -> 0 | Flat -> 1 | Up -> 2\n",
    "enc.fit(df['ST_Slope'])\n",
    "df['ST_Slope'] = enc.transform(df['ST_Slope'])\n",
    "\n",
    "df"
   ],
   "metadata": {
    "collapsed": false,
    "pycharm": {
     "name": "#%%\n"
    }
   }
  },
  {
   "cell_type": "markdown",
   "source": [
    "##### Faixas etárias\n",
    "\n",
    "Vamos categorizar as idades dos individuos no dataset, agrupando-os por faixas etárias\n",
    "para melhor analisar os resultados dos dados clínicos destes."
   ],
   "metadata": {
    "collapsed": false,
    "pycharm": {
     "name": "#%% md\n"
    }
   }
  },
  {
   "cell_type": "code",
   "execution_count": 564,
   "outputs": [],
   "source": [
    "df_extra_info = df.copy()\n",
    "bins = np.arange(20, 100, 15)\n",
    "\n",
    "df['AgeClass'] = np.digitize(df['Age'], bins, right=True)"
   ],
   "metadata": {
    "collapsed": false,
    "pycharm": {
     "name": "#%%\n"
    }
   }
  },
  {
   "cell_type": "markdown",
   "source": [
    "Função génerica classificadora de dados como sendo altos, baixos ou normais.\n",
    "\n",
    "Assim vai ser criada uma coluna onde os niveis de cada panciente estão classificados entre 'low', 'normal' e 'high'.\n"
   ],
   "metadata": {
    "collapsed": false,
    "pycharm": {
     "name": "#%% md\n"
    }
   }
  },
  {
   "cell_type": "code",
   "execution_count": 565,
   "outputs": [],
   "source": [
    "def f(row,col_name, min_value, high_value):\n",
    "    if row[col_name] < min_value:\n",
    "        val = 'Low'\n",
    "    elif min_value < row[col_name] <= high_value:\n",
    "        val = 'Normal'\n",
    "    else:\n",
    "        val = 'High'\n",
    "    return val"
   ],
   "metadata": {
    "collapsed": false,
    "pycharm": {
     "name": "#%%\n"
    }
   }
  },
  {
   "cell_type": "markdown",
   "source": [
    "##### Niveis de colestrol\n",
    "\n",
    "O nivel de colestrol total para um adulto normal varia entre 125 a 200 mg/dL."
   ],
   "metadata": {
    "collapsed": false,
    "pycharm": {
     "name": "#%% md\n"
    }
   }
  },
  {
   "cell_type": "code",
   "execution_count": 566,
   "outputs": [],
   "source": [
    "df['CholesterolClass'] = df.apply(lambda row: f(row,'Cholesterol', 125, 200) , axis=1)"
   ],
   "metadata": {
    "collapsed": false,
    "pycharm": {
     "name": "#%%\n"
    }
   }
  },
  {
   "cell_type": "markdown",
   "source": [
    "##### Niveis pressão sanguinea em repouso\n",
    "\n",
    "O nivel de pressão sanguinea para um adulto normal varia entre 90/60mmHg e 120/80mmHg. Sendo considerada elevada quando\n",
    "ultrapassa os 140/90mmHg."
   ],
   "metadata": {
    "collapsed": false
   }
  },
  {
   "cell_type": "code",
   "execution_count": 567,
   "outputs": [],
   "source": [
    "df['RestingBPClass'] = df.apply(lambda row: f(row,'RestingBP', 90, 140) , axis=1)"
   ],
   "metadata": {
    "collapsed": false,
    "pycharm": {
     "name": "#%%\n"
    }
   }
  },
  {
   "cell_type": "markdown",
   "source": [
    "##### Niveis máximos de batimentos cardiacos\n",
    "\n",
    "Segundo, https://www.drjohnm.org/2011/08/whats-a-normal-heart-rate/\n",
    "os niveis de batimentos cardiacos podem variar muito, pois estes são influenciados por diferentes fatores, como fatores\n",
    "genéticos, hormonais, idade, historico de saúde, etc.\n",
    "\n",
    "Para simplificação foi considerado que para um adulto normal, irião ser assumidos como um niveís normaais entre os\n",
    "60 e os 100 batimentos/minuto."
   ],
   "metadata": {
    "collapsed": false
   }
  },
  {
   "cell_type": "code",
   "execution_count": 568,
   "outputs": [],
   "source": [
    "df['MaxHeartRateClass'] = df.apply(lambda row: f(row,'MaxHeartRate', 90, 140) , axis=1)"
   ],
   "metadata": {
    "collapsed": false,
    "pycharm": {
     "name": "#%%\n"
    }
   }
  },
  {
   "cell_type": "markdown",
   "source": [
    "Data set final após Data Wrangling."
   ],
   "metadata": {
    "collapsed": false,
    "pycharm": {
     "name": "#%% md\n"
    }
   }
  },
  {
   "cell_type": "code",
   "execution_count": 569,
   "outputs": [
    {
     "data": {
      "text/plain": "     Age  Gender  ChestPainType  RestingBP  Cholesterol  Diabetes  RestingECG  \\\n0     40       1              1        140          289         0           1   \n1     49       0              2        160          180         0           1   \n2     37       1              1        130          283         0           2   \n3     48       0              0        138          214         0           1   \n4     54       1              2        150          195         0           1   \n..   ...     ...            ...        ...          ...       ...         ...   \n913   45       1              3        110          264         0           1   \n914   68       1              0        144          193         1           1   \n915   57       1              0        130          131         0           1   \n916   57       0              1        130          236         0           0   \n917   38       1              2        138          175         0           1   \n\n     MaxHeartRate  ExerciseAngina  STDeviation  ST_Slope  HeartDisease  \\\n0             172               0          0.0         2             0   \n1             156               0          1.0         1             1   \n2              98               0          0.0         2             0   \n3             108               1          1.5         1             1   \n4             122               0          0.0         2             0   \n..            ...             ...          ...       ...           ...   \n913           132               0          1.2         1             1   \n914           141               0          3.4         1             1   \n915           115               1          1.2         1             1   \n916           174               0          0.0         1             1   \n917           173               0          0.0         2             0   \n\n     AgeClass CholesterolClass RestingBPClass MaxHeartRateClass  \n0           2             High         Normal              High  \n1           2           Normal           High              High  \n2           2             High         Normal            Normal  \n3           2             High         Normal            Normal  \n4           3           Normal           High            Normal  \n..        ...              ...            ...               ...  \n913         2             High         Normal            Normal  \n914         4           Normal           High              High  \n915         3           Normal         Normal            Normal  \n916         3             High         Normal              High  \n917         2           Normal         Normal              High  \n\n[918 rows x 16 columns]",
      "text/html": "<div>\n<style scoped>\n    .dataframe tbody tr th:only-of-type {\n        vertical-align: middle;\n    }\n\n    .dataframe tbody tr th {\n        vertical-align: top;\n    }\n\n    .dataframe thead th {\n        text-align: right;\n    }\n</style>\n<table border=\"1\" class=\"dataframe\">\n  <thead>\n    <tr style=\"text-align: right;\">\n      <th></th>\n      <th>Age</th>\n      <th>Gender</th>\n      <th>ChestPainType</th>\n      <th>RestingBP</th>\n      <th>Cholesterol</th>\n      <th>Diabetes</th>\n      <th>RestingECG</th>\n      <th>MaxHeartRate</th>\n      <th>ExerciseAngina</th>\n      <th>STDeviation</th>\n      <th>ST_Slope</th>\n      <th>HeartDisease</th>\n      <th>AgeClass</th>\n      <th>CholesterolClass</th>\n      <th>RestingBPClass</th>\n      <th>MaxHeartRateClass</th>\n    </tr>\n  </thead>\n  <tbody>\n    <tr>\n      <th>0</th>\n      <td>40</td>\n      <td>1</td>\n      <td>1</td>\n      <td>140</td>\n      <td>289</td>\n      <td>0</td>\n      <td>1</td>\n      <td>172</td>\n      <td>0</td>\n      <td>0.0</td>\n      <td>2</td>\n      <td>0</td>\n      <td>2</td>\n      <td>High</td>\n      <td>Normal</td>\n      <td>High</td>\n    </tr>\n    <tr>\n      <th>1</th>\n      <td>49</td>\n      <td>0</td>\n      <td>2</td>\n      <td>160</td>\n      <td>180</td>\n      <td>0</td>\n      <td>1</td>\n      <td>156</td>\n      <td>0</td>\n      <td>1.0</td>\n      <td>1</td>\n      <td>1</td>\n      <td>2</td>\n      <td>Normal</td>\n      <td>High</td>\n      <td>High</td>\n    </tr>\n    <tr>\n      <th>2</th>\n      <td>37</td>\n      <td>1</td>\n      <td>1</td>\n      <td>130</td>\n      <td>283</td>\n      <td>0</td>\n      <td>2</td>\n      <td>98</td>\n      <td>0</td>\n      <td>0.0</td>\n      <td>2</td>\n      <td>0</td>\n      <td>2</td>\n      <td>High</td>\n      <td>Normal</td>\n      <td>Normal</td>\n    </tr>\n    <tr>\n      <th>3</th>\n      <td>48</td>\n      <td>0</td>\n      <td>0</td>\n      <td>138</td>\n      <td>214</td>\n      <td>0</td>\n      <td>1</td>\n      <td>108</td>\n      <td>1</td>\n      <td>1.5</td>\n      <td>1</td>\n      <td>1</td>\n      <td>2</td>\n      <td>High</td>\n      <td>Normal</td>\n      <td>Normal</td>\n    </tr>\n    <tr>\n      <th>4</th>\n      <td>54</td>\n      <td>1</td>\n      <td>2</td>\n      <td>150</td>\n      <td>195</td>\n      <td>0</td>\n      <td>1</td>\n      <td>122</td>\n      <td>0</td>\n      <td>0.0</td>\n      <td>2</td>\n      <td>0</td>\n      <td>3</td>\n      <td>Normal</td>\n      <td>High</td>\n      <td>Normal</td>\n    </tr>\n    <tr>\n      <th>...</th>\n      <td>...</td>\n      <td>...</td>\n      <td>...</td>\n      <td>...</td>\n      <td>...</td>\n      <td>...</td>\n      <td>...</td>\n      <td>...</td>\n      <td>...</td>\n      <td>...</td>\n      <td>...</td>\n      <td>...</td>\n      <td>...</td>\n      <td>...</td>\n      <td>...</td>\n      <td>...</td>\n    </tr>\n    <tr>\n      <th>913</th>\n      <td>45</td>\n      <td>1</td>\n      <td>3</td>\n      <td>110</td>\n      <td>264</td>\n      <td>0</td>\n      <td>1</td>\n      <td>132</td>\n      <td>0</td>\n      <td>1.2</td>\n      <td>1</td>\n      <td>1</td>\n      <td>2</td>\n      <td>High</td>\n      <td>Normal</td>\n      <td>Normal</td>\n    </tr>\n    <tr>\n      <th>914</th>\n      <td>68</td>\n      <td>1</td>\n      <td>0</td>\n      <td>144</td>\n      <td>193</td>\n      <td>1</td>\n      <td>1</td>\n      <td>141</td>\n      <td>0</td>\n      <td>3.4</td>\n      <td>1</td>\n      <td>1</td>\n      <td>4</td>\n      <td>Normal</td>\n      <td>High</td>\n      <td>High</td>\n    </tr>\n    <tr>\n      <th>915</th>\n      <td>57</td>\n      <td>1</td>\n      <td>0</td>\n      <td>130</td>\n      <td>131</td>\n      <td>0</td>\n      <td>1</td>\n      <td>115</td>\n      <td>1</td>\n      <td>1.2</td>\n      <td>1</td>\n      <td>1</td>\n      <td>3</td>\n      <td>Normal</td>\n      <td>Normal</td>\n      <td>Normal</td>\n    </tr>\n    <tr>\n      <th>916</th>\n      <td>57</td>\n      <td>0</td>\n      <td>1</td>\n      <td>130</td>\n      <td>236</td>\n      <td>0</td>\n      <td>0</td>\n      <td>174</td>\n      <td>0</td>\n      <td>0.0</td>\n      <td>1</td>\n      <td>1</td>\n      <td>3</td>\n      <td>High</td>\n      <td>Normal</td>\n      <td>High</td>\n    </tr>\n    <tr>\n      <th>917</th>\n      <td>38</td>\n      <td>1</td>\n      <td>2</td>\n      <td>138</td>\n      <td>175</td>\n      <td>0</td>\n      <td>1</td>\n      <td>173</td>\n      <td>0</td>\n      <td>0.0</td>\n      <td>2</td>\n      <td>0</td>\n      <td>2</td>\n      <td>Normal</td>\n      <td>Normal</td>\n      <td>High</td>\n    </tr>\n  </tbody>\n</table>\n<p>918 rows × 16 columns</p>\n</div>"
     },
     "execution_count": 569,
     "metadata": {},
     "output_type": "execute_result"
    }
   ],
   "source": [
    "df"
   ],
   "metadata": {
    "collapsed": false,
    "pycharm": {
     "name": "#%%\n"
    }
   }
  },
  {
   "cell_type": "markdown",
   "source": [
    "## 4 - EDA"
   ],
   "metadata": {
    "collapsed": false
   }
  },
  {
   "cell_type": "markdown",
   "source": [
    "O EDA vai estar divido em três secções:\n",
    "- Compreensão dos dados clínicos\n",
    "- Análise por tabelas de valores (value_counts entre outros)\n",
    "- Remoção de outliers\n",
    "- Análise por grupos de dados"
   ],
   "metadata": {
    "collapsed": false
   }
  },
  {
   "cell_type": "markdown",
   "source": [
    "### Compriender os dados\n",
    "\n",
    "#### restingECG\n",
    "O ECG deteta os sinais elétricos do coração, uma vez que cada contração do músculo cardíaco ou das válvulas cardíacas\n",
    "emite um impulso, este exame mede o tempo e a força dos impulsos elétricos.\n",
    "\n",
    "Este teste pode ser feito de duas maneiras, em repouso (resting) ou em esforço/stress e providencia informação sobre o\n",
    "batimento cardiaco e ritmo, podendo demonstrar se existe aumento do coração devido a uma elevada pressão sanguinea.\n",
    "\n",
    "Por esse motivo, é o exame indicado para o despiste de arritmias cardíacas ou para a deteção\n",
    "precoce de indicadores de isquemia cardíaca.\n",
    "\n",
    "De notar que um resultado “normal” neste exame, não é suficiente para excluir uma doença\n",
    "cardiovascular.\n",
    "\n",
    "Nestes dados aparece como\n",
    "* Normal\n",
    "* ST - tendo onda ST segmentation anormal (T wave inversions and/or ST elevation or depression of > 0.05 mV)\n",
    "* LVH (left ventricular hipertrophy)\n",
    "\n",
    "A presença de ST segmentation num ECG, deve-se a uma quebra no fluxo da corrente no grandiente de zonas isquémicas e\n",
    "não-isquémicas, que afeta o fase de plateau, isto é, do potencial de ação transmembrana ventricular e por conseguinte\n",
    "causa o ST segment.\n",
    "\n",
    "\n",
    "#### ST Slope\n",
    "Segundo, https://www.ncbi.nlm.nih.gov/books/NBK459364/\n",
    "ST Slope or ST Segmentation é uma importante componente de um ECG e é, a forma que este pode tomar\n",
    "acima (ST elevation) ou abaixo (ST depression) da linha de referência. Para além disso é importante caracterizar a\n",
    "forma da onda do ST segment, pois este pode ser classificado como horizontal (flat), upsloping, ou downsloping\n",
    "(sendo os últimos dois rápidos ou lentos) que são os dados presentes nesta\n",
    "coluna.\n",
    "\n",
    "Implicações destes fatores:\n",
    "* A presença de uma ST elevation é uma causa comum para a deteção de fatores como LVH\n",
    "* Em geral uma isquemia cardíaca é representada por uma ST depression, enquanto que uma lesão cardiáca pode ser indicada\n",
    "por uma ST elevation\n",
    "* É preciso ter em conta que nem todas as ST elevations ou ST depression representam isquemia cardíaca ou condições\n",
    "emergentes, contudo multiplas condições estão associadas a estes fatores.\n",
    "\n",
    "#### STDeviation\n",
    "\n",
    "Está relacionada com a ocorrência de uma ST depression, representando as mudanças das ondas T, onde tanto para homens\n",
    "como para mulheres os valores de referência são de -0.05 mV em V e -0.1 mV em todas as restantes.\n",
    "\n",
    "Segundo, https://ecgwaves.com/st-segment-normal-abnormal-depression-elevation-causes/\n",
    "para quantificar as variações dos ST segments, calcula-se a variação em milimetros até ao ponto J da onda do ECG.\n",
    "\n",
    "Assim, assume-se que os valores desta coluna, são dados em milemetros (mm) e que como está associada aos valores da\n",
    "ST depression, valores, negativos, referem-se a medições de uma ST elevation.\n",
    "\n",
    "\n",
    "#### ExerciseAngina\n",
    "\n",
    "Angina é a dor que pode ocorrer durante a prática de exercício fisíco, stress ou outras coisas semelhantes que façam o\n",
    "o coração trabalhar em esforço.\n",
    "\n",
    "É um sintóma comum para doença na artéria coronária que pode ser causada artérias coronárias bloqueadas por colestrol.\n",
    "\n",
    "#### Diabetes\n",
    "É um indicador obtido através da colheita de sangue em jejum, feito normalmente, durante a noite.\n",
    "Um nível inferior a 100 mg/dl é considerado normal, entre 100 e 125 mg/dl é indicador de pré-diabetes e acima disso\n",
    "o paciente tem diabetes (geralmente fazem-se 2 testes diferentes para confirmar os resultos).\n",
    "\n",
    "Neste dataset, estes valores são distinguidos entre ter diabetes (1) e não ter diabetes (0), ou seja, pacientes marcados\n",
    "com “1” tinham valores acima de 120 mg/dl.\n"
   ],
   "metadata": {
    "collapsed": false,
    "pycharm": {
     "name": "#%% md\n"
    }
   }
  },
  {
   "cell_type": "markdown",
   "source": [
    "### Análise por tabelas de valores"
   ],
   "metadata": {
    "collapsed": false,
    "pycharm": {
     "name": "#%% md\n"
    }
   }
  },
  {
   "cell_type": "code",
   "execution_count": 570,
   "outputs": [
    {
     "data": {
      "text/plain": "0      0.187364\n254    0.011983\n223    0.010893\n220    0.010893\n230    0.009804\n         ...   \n392    0.001089\n316    0.001089\n153    0.001089\n466    0.001089\n131    0.001089\nName: Cholesterol, Length: 222, dtype: float64"
     },
     "execution_count": 570,
     "metadata": {},
     "output_type": "execute_result"
    }
   ],
   "source": [
    "df['Cholesterol'].value_counts(normalize=True)"
   ],
   "metadata": {
    "collapsed": false,
    "pycharm": {
     "name": "#%%\n"
    }
   }
  },
  {
   "cell_type": "markdown",
   "source": [
    "Verifica-se que existem 172 pacientes com valor 0, o que em termos médicos não faria sentido registarem estes valores.\n",
    "\n",
    "Uma vez que 172 pacientes representam 18% do dataset, a sua remoção poderia ter impactos negativos em futuras\n",
    "análises. Assim ao invés de serem removidos optou-se por substituir estes valores pela mediana da coluna em questão."
   ],
   "metadata": {
    "collapsed": false
   }
  },
  {
   "cell_type": "code",
   "execution_count": 571,
   "outputs": [],
   "source": [
    "df['Cholesterol'] = df['Cholesterol'].apply(lambda x: df['Cholesterol'].median() if x < 75 else x)\n",
    "df['CholesterolClass'] = df.apply(lambda row: f(row,'Cholesterol', 125, 200) , axis=1)"
   ],
   "metadata": {
    "collapsed": false,
    "pycharm": {
     "name": "#%%\n"
    }
   }
  },
  {
   "cell_type": "markdown",
   "source": [
    "### Visualização de dados"
   ],
   "metadata": {
    "collapsed": false,
    "pycharm": {
     "name": "#%% md\n"
    }
   }
  },
  {
   "cell_type": "markdown",
   "source": [
    "#### histograms"
   ],
   "metadata": {
    "collapsed": false,
    "pycharm": {
     "name": "#%% md\n"
    }
   }
  },
  {
   "cell_type": "code",
   "execution_count": 572,
   "outputs": [
    {
     "data": {
      "text/plain": "<Figure size 1080x576 with 16 Axes>",
      "image/png": "[encoded data removed]"
     },
     "metadata": {},
     "output_type": "display_data"
    }
   ],
   "source": [
    "df.hist()\n",
    "plt.show()"
   ],
   "metadata": {
    "collapsed": false,
    "pycharm": {
     "name": "#%%\n"
    }
   }
  },
  {
   "cell_type": "markdown",
   "source": [
    "#### Heatmaps"
   ],
   "metadata": {
    "collapsed": false,
    "pycharm": {
     "name": "#%% md\n"
    }
   }
  },
  {
   "cell_type": "code",
   "execution_count": 573,
   "outputs": [
    {
     "data": {
      "text/plain": "<AxesSubplot:>"
     },
     "execution_count": 573,
     "metadata": {},
     "output_type": "execute_result"
    },
    {
     "data": {
      "text/plain": "<Figure size 1080x576 with 2 Axes>",
      "image/png": "[encoded data removed]"
     },
     "metadata": {},
     "output_type": "display_data"
    }
   ],
   "source": [
    "sns.set(rc = {'figure.figsize':(15,8)})\n",
    "sns.heatmap(data=df.corr().loc[['HeartDisease']], annot=True)"
   ],
   "metadata": {
    "collapsed": false,
    "pycharm": {
     "name": "#%%\n"
    }
   }
  },
  {
   "cell_type": "markdown",
   "source": [
    "Escrever conclusão sobre o gráfico"
   ],
   "metadata": {
    "collapsed": false
   }
  },
  {
   "cell_type": "code",
   "execution_count": 574,
   "outputs": [
    {
     "data": {
      "text/plain": "<AxesSubplot:>"
     },
     "execution_count": 574,
     "metadata": {},
     "output_type": "execute_result"
    },
    {
     "data": {
      "text/plain": "<Figure size 1080x576 with 2 Axes>",
      "image/png": "[encoded data removed]"
     },
     "metadata": {},
     "output_type": "display_data"
    }
   ],
   "source": [
    "sns.heatmap(data=df.corr(), annot=True)"
   ],
   "metadata": {
    "collapsed": false,
    "pycharm": {
     "name": "#%%\n"
    }
   }
  },
  {
   "cell_type": "markdown",
   "source": [
    "Parece que os dados não se correlacionam diretamente, apenas destacando-se uma ligeira correlação entre doenças de\n",
    "coração e Angina durante exercício\n",
    "\n",
    "#### Outliers"
   ],
   "metadata": {
    "collapsed": false
   }
  },
  {
   "cell_type": "code",
   "execution_count": 575,
   "outputs": [
    {
     "data": {
      "text/plain": "<Figure size 2160x1080 with 6 Axes>",
      "image/png": "[encoded data removed]"
     },
     "metadata": {},
     "output_type": "display_data"
    }
   ],
   "source": [
    "sns.set()\n",
    "fig, axes = plt.subplots(2, ceil(len(metric_features) / 2), figsize=(30, 15))\n",
    "\n",
    "for ax, feat in zip(axes.flatten(), metric_features):\n",
    "    sns.boxplot(x=df[feat], ax=ax, color='steelblue')\n",
    "\n",
    "title = \"Numeric Variables's Box Plots\"\n",
    "plt.suptitle(title, y=0.95, fontsize=20)\n",
    "plt.show()"
   ],
   "metadata": {
    "collapsed": false,
    "pycharm": {
     "name": "#%%\n"
    }
   }
  },
  {
   "cell_type": "markdown",
   "source": [
    "#### Remoção dos outliers"
   ],
   "metadata": {
    "collapsed": false
   }
  },
  {
   "cell_type": "code",
   "execution_count": 576,
   "outputs": [
    {
     "data": {
      "text/plain": "(854, 16)"
     },
     "execution_count": 576,
     "metadata": {},
     "output_type": "execute_result"
    }
   ],
   "source": [
    "outliers_filter = ( ((100 < df['Cholesterol']) & (df['Cholesterol'] < 350))\n",
    "                    & ((75 < df['RestingBP']) & (df['RestingBP'] < 175))\n",
    "                    & (df['STDeviation'] < 4))\n",
    "df_no_outliers = df[outliers_filter].copy()\n",
    "df_no_outliers.shape"
   ],
   "metadata": {
    "collapsed": false,
    "pycharm": {
     "name": "#%%\n"
    }
   }
  },
  {
   "cell_type": "code",
   "execution_count": 577,
   "outputs": [
    {
     "name": "stdout",
     "output_type": "stream",
     "text": [
      "Percentage of data kept after removing outliers: 93.03 %\n",
      "Percentage of data removed: 6.9717 %\n"
     ]
    }
   ],
   "source": [
    "print('Percentage of data kept after removing outliers:', np.round(df_no_outliers.shape[0] / df.shape[0], 4)*100, '%')\n",
    "print('Percentage of data removed:', np.round((1-(df_no_outliers.shape[0] / df.shape[0]))*100, 4), '%')\n",
    "\n",
    "df = df_no_outliers"
   ],
   "metadata": {
    "collapsed": false,
    "pycharm": {
     "name": "#%%\n"
    }
   }
  },
  {
   "cell_type": "markdown",
   "source": [
    "Verifica-se a existência de alguns outliers nas variaveis numéricas, como, por exemplo, nos dados da pressão sanguinea\n",
    "e niveis de colestrol, contudo, a existência destes “outliars” pode estar correlacionada com a presença\n",
    "de doença do coração, isto é, pode ser um fator que contribui para esta se manifestar.\n",
    "\n",
    "Assim, apenas outliears que representavam dados irrealistas de acordo com o significado clinico da variável,\n",
    "foram removidos."
   ],
   "metadata": {
    "collapsed": false
   }
  },
  {
   "cell_type": "markdown",
   "source": [
    "### Análise sobre ter doença cardiovascular"
   ],
   "metadata": {
    "collapsed": false,
    "pycharm": {
     "name": "#%% md\n"
    }
   }
  },
  {
   "cell_type": "markdown",
   "source": [
    "#### Distribuição por género"
   ],
   "metadata": {
    "collapsed": false
   }
  },
  {
   "cell_type": "code",
   "execution_count": 578,
   "outputs": [
    {
     "data": {
      "text/plain": "1    0.796253\n0    0.203747\nName: Gender, dtype: float64"
     },
     "execution_count": 578,
     "metadata": {},
     "output_type": "execute_result"
    }
   ],
   "source": [
    "df['Gender'].value_counts(normalize=True)"
   ],
   "metadata": {
    "collapsed": false,
    "pycharm": {
     "name": "#%%\n"
    }
   }
  },
  {
   "cell_type": "markdown",
   "source": [
    "Verifica-se que aproximadamente 4 em 5 individous neste conjunto de dados são homems"
   ],
   "metadata": {
    "collapsed": false
   }
  },
  {
   "cell_type": "markdown",
   "source": [
    "##### Distribuição por idades"
   ],
   "metadata": {
    "collapsed": false
   }
  },
  {
   "cell_type": "code",
   "execution_count": 579,
   "outputs": [
    {
     "data": {
      "text/plain": "<AxesSubplot:>"
     },
     "execution_count": 579,
     "metadata": {},
     "output_type": "execute_result"
    },
    {
     "data": {
      "text/plain": "<Figure size 1080x576 with 1 Axes>",
      "image/png": "[encoded data removed]"
     },
     "metadata": {},
     "output_type": "display_data"
    }
   ],
   "source": [
    "df_heart_disease = df[df.HeartDisease.apply(lambda x: x == 1)]\n",
    "df['Age'].hist()\n",
    "df_heart_disease['Age'].hist()"
   ],
   "metadata": {
    "collapsed": false,
    "pycharm": {
     "name": "#%%\n"
    }
   }
  },
  {
   "cell_type": "markdown",
   "source": [
    "Ao analisar a distribuição de idades constata-se que a maior parte dos individuos tem entre 50 e 65 anos.\n",
    "\n",
    "Ao comparar-se a distribuição das idades com as idades em que individuos sofrem de\n",
    "doenças do coração verifica-se que esta é mais comum na faixa etária entre os 55 e 65 anos"
   ],
   "metadata": {
    "collapsed": false
   }
  },
  {
   "cell_type": "code",
   "execution_count": 580,
   "outputs": [
    {
     "data": {
      "text/plain": "<Figure size 1080x576 with 1 Axes>",
      "image/png": "[encoded data removed]"
     },
     "metadata": {},
     "output_type": "display_data"
    }
   ],
   "source": [
    "counts = df_heart_disease.groupby(['AgeClass', 'Gender']).Age.count().unstack()\n",
    "\n",
    "ax = counts.plot(kind='bar',stacked = False, colormap = 'Paired')\n",
    "\n",
    "for p in ax.patches:\n",
    "        ax.annotate(np.round(p.get_height(),decimals=0).astype(np.int64), (p.get_x()+p.get_width()/2., p.get_height()), ha='center', va='center', xytext=(2, 10), textcoords='offset points')\n",
    "\n",
    "ax.set_xticklabels(['20-35','36-51','51-66','67-100'])\n",
    "plt.xlabel ('Age Class')\n",
    "plt.ylabel ('Heart Disease')\n",
    "plt.title('Comparison of heart disease by gender in an age group \\n',fontsize=20)\n",
    "plt.show()"
   ],
   "metadata": {
    "collapsed": false,
    "pycharm": {
     "name": "#%%\n"
    }
   }
  },
  {
   "cell_type": "markdown",
   "source": [
    "Filtrando os dados por individuos apenas com doença de coração, e tendo em conta a desproporção do género neste dataset\n",
    "verifica-se que homems entre os 51 e os 66 anos sofrem ligeiramente mais com esta doença."
   ],
   "metadata": {
    "collapsed": false
   }
  },
  {
   "cell_type": "markdown",
   "source": [
    "##### Dores no peito\n",
    "\n",
    "Dores no peito quando a praticar exercício físico, sob stress ou até em repouso são dos principais motivadores que levam\n",
    "individuos a procurar ajuda médica para despistar possiveis problemas, assim é importante ver a relação que estes\n",
    "indicadores podem ter na possibilidade de existir um problema mais sério."
   ],
   "metadata": {
    "collapsed": false,
    "pycharm": {
     "name": "#%% md\n"
    }
   }
  },
  {
   "cell_type": "code",
   "execution_count": 581,
   "outputs": [],
   "source": [
    "\n",
    "# ChestPainType: ASY -> 0 | ATA -> 1 | NAP -> 2 | TA -> 3\n",
    "# ExerciseAngina: N -> 0 | Y -> 1\n",
    "\n",
    "df_with_pain = (df['ChestPainType'] > 0)\n",
    "df_pain_exercising = (df['ExerciseAngina'] == 1)"
   ],
   "metadata": {
    "collapsed": false,
    "pycharm": {
     "name": "#%%\n"
    }
   }
  },
  {
   "cell_type": "code",
   "execution_count": 582,
   "outputs": [
    {
     "data": {
      "text/plain": "1    0.85119\n0    0.14881\nName: HeartDisease, dtype: float64"
     },
     "execution_count": 582,
     "metadata": {},
     "output_type": "execute_result"
    }
   ],
   "source": [
    "df[df_pain_exercising]['HeartDisease'].value_counts(normalize=True)"
   ],
   "metadata": {
    "collapsed": false,
    "pycharm": {
     "name": "#%%\n"
    }
   }
  },
  {
   "cell_type": "code",
   "execution_count": 583,
   "outputs": [
    {
     "data": {
      "text/plain": "1    0.657143\n0    0.342857\nName: HeartDisease, dtype: float64"
     },
     "execution_count": 583,
     "metadata": {},
     "output_type": "execute_result"
    }
   ],
   "source": [
    "df[df_pain_exercising & df_with_pain]['HeartDisease'].value_counts(normalize=True)"
   ],
   "metadata": {
    "collapsed": false,
    "pycharm": {
     "name": "#%%\n"
    }
   }
  },
  {
   "cell_type": "code",
   "execution_count": 584,
   "outputs": [
    {
     "name": "stdout",
     "output_type": "stream",
     "text": [
      "0    0.826733\n",
      "1    0.173267\n",
      "Name: ExerciseAngina, dtype: float64 \n",
      "\n",
      "0    0.791667\n",
      "2    0.145833\n",
      "1    0.044643\n",
      "3    0.017857\n",
      "Name: ChestPainType, dtype: float64\n"
     ]
    }
   ],
   "source": [
    "print(df[df_with_pain]['ExerciseAngina'].value_counts(normalize=True), '\\n')\n",
    "print(df[df_pain_exercising]['ChestPainType'].value_counts(normalize=True))"
   ],
   "metadata": {
    "collapsed": false,
    "pycharm": {
     "name": "#%%\n"
    }
   }
  },
  {
   "cell_type": "markdown",
   "source": [
    "Verifica-se que 85% dos pacientes que reportam dores ao fazer exercício sofrem de doenças cardiovasculares, mas\n",
    "pacientes que reportam essas dores e dores no peito no geral, apenas 65% tem doenças cardiovasculares.\n",
    "\n",
    "Assim, dores no peito ao fazer exercício tem uma grande correlação com ter doenças cardiovasculares, já a\n",
    "presença de dores no peito e dores ao fazer exercício não demonstrou ter correlação alguma.\n",
    "\n",
    "#### Dados clínicos de despiste\n",
    "\n",
    "Antes de se recorrer a procedimentos mais invasivos, apurar o nível de **colestrol**, **pressão sanguinea**,\n",
    "**açucar no sangue** ou até fazer um eletrocardiograma (ECG), são os passos mais comuns para uma análise geral do quadro clínico do paciente."
   ],
   "metadata": {
    "collapsed": false,
    "pycharm": {
     "name": "#%% md\n"
    }
   }
  },
  {
   "cell_type": "code",
   "execution_count": 585,
   "outputs": [
    {
     "name": "stdout",
     "output_type": "stream",
     "text": [
      "1    0.728477\n",
      "0    0.271523\n",
      "Name: HeartDisease, dtype: float64 \n",
      "\n",
      "(48, 16)\n"
     ]
    }
   ],
   "source": [
    "high_cholesterol = df['CholesterolClass'] == \"High\"\n",
    "high_BP = df['RestingBPClass'] == \"High\"\n",
    "has_diabetes = df['Diabetes'] == 1\n",
    "\n",
    "df_1 = df[high_cholesterol & high_BP]\n",
    "print(df_1['HeartDisease'].value_counts(normalize=True), '\\n')\n",
    "\n",
    "print(df[high_cholesterol & high_BP & has_diabetes].shape)"
   ],
   "metadata": {
    "collapsed": false,
    "pycharm": {
     "name": "#%%\n"
    }
   }
  },
  {
   "cell_type": "code",
   "execution_count": 586,
   "outputs": [
    {
     "data": {
      "text/plain": "1    0.854167\n0    0.145833\nName: HeartDisease, dtype: float64"
     },
     "execution_count": 586,
     "metadata": {},
     "output_type": "execute_result"
    }
   ],
   "source": [
    "df[high_cholesterol & high_BP & has_diabetes]['HeartDisease'].value_counts(normalize=True)"
   ],
   "metadata": {
    "collapsed": false,
    "pycharm": {
     "name": "#%%\n"
    }
   }
  },
  {
   "cell_type": "markdown",
   "source": [
    "Aqui é possivel ver que 85% dos pacientes que apresentam uma combinação de colestrol, pressão sanguinea e diabetes têm\n",
    "doenças cardiovasculares. Que são todos indices que se sabe, que contribuem para que este tipo de doenças ocorram, uma\n",
    "vez que demonstram que o sistema cardiovascular de um individuo se encontra sobre carregado e em esforço."
   ],
   "metadata": {
    "collapsed": false,
    "pycharm": {
     "name": "#%% md\n"
    }
   }
  },
  {
   "cell_type": "markdown",
   "source": [
    "#### Dores no peito e niveis de risco de dados clínicos\n",
    "\n",
    "Uma vez que dores no peito durante o exercício apresenta grande correlação com a existência de doenças cardiovasculares\n",
    "tal como como niveis de risco de dados clínicos, é interessante ver se pacientes com estes dados de risco, reportaram as\n",
    "dores de peito"
   ],
   "metadata": {
    "collapsed": false,
    "pycharm": {
     "name": "#%% md\n"
    }
   }
  },
  {
   "cell_type": "code",
   "execution_count": 587,
   "outputs": [
    {
     "name": "stdout",
     "output_type": "stream",
     "text": [
      "1    0.583333\n",
      "0    0.416667\n",
      "Name: ExerciseAngina, dtype: float64\n",
      "1    0.928571\n",
      "0    0.071429\n",
      "Name: HeartDisease, dtype: float64\n"
     ]
    }
   ],
   "source": [
    "print(df[high_cholesterol & high_BP & has_diabetes]['ExerciseAngina'].value_counts(normalize=True))\n",
    "\n",
    "print(df[high_cholesterol & high_BP & has_diabetes & df_pain_exercising]['HeartDisease'].value_counts(normalize=True))"
   ],
   "metadata": {
    "collapsed": false,
    "pycharm": {
     "name": "#%%\n"
    }
   }
  },
  {
   "cell_type": "markdown",
   "source": [
    "Como esperado 58% dos pacientes com niveis de risco apresenta dores no peito ao exercitar-se e 93% desses sofre de\n",
    "doenças cardiovasculares\n"
   ],
   "metadata": {
    "collapsed": false,
    "pycharm": {
     "name": "#%% md\n"
    }
   }
  },
  {
   "cell_type": "markdown",
   "source": [
    "#### Eletrocardiograma (ECG)\n",
    "\n",
    "Contudo nem sempre os indicadores são assim tão assim tão expressiveis, e os médicos podem ter necessidade de recorrer a\n",
    "um eletrocardiograma (ECG) para despistar problemas."
   ],
   "metadata": {
    "collapsed": false,
    "pycharm": {
     "name": "#%% md\n"
    }
   }
  },
  {
   "cell_type": "code",
   "execution_count": 588,
   "outputs": [
    {
     "name": "stdout",
     "output_type": "stream",
     "text": [
      "1    0.506744\n",
      "0    0.493256\n",
      "Name: HeartDisease, dtype: float64 \n",
      "\n",
      "1    0.563953\n",
      "0    0.436047\n",
      "Name: HeartDisease, dtype: float64 \n",
      "\n",
      "1    0.650307\n",
      "0    0.349693\n",
      "Name: HeartDisease, dtype: float64\n"
     ]
    }
   ],
   "source": [
    "# RestingECG: LVH -> 0 | Normal -> 1 | ST -> 2\n",
    "normal_ecg = df['RestingECG'] == 1\n",
    "st_ecg = df['RestingECG'] == 2\n",
    "lvh_ecg = df['RestingECG'] == 0\n",
    "\n",
    "print(df[normal_ecg]['HeartDisease'].value_counts(normalize=True), '\\n')\n",
    "print(df[lvh_ecg]['HeartDisease'].value_counts(normalize=True), '\\n')\n",
    "print(df[st_ecg]['HeartDisease'].value_counts(normalize=True))"
   ],
   "metadata": {
    "collapsed": false,
    "pycharm": {
     "name": "#%%\n"
    }
   }
  },
  {
   "cell_type": "code",
   "execution_count": 589,
   "outputs": [
    {
     "data": {
      "text/plain": "<AxesSubplot:>"
     },
     "execution_count": 589,
     "metadata": {},
     "output_type": "execute_result"
    },
    {
     "data": {
      "text/plain": "<Figure size 1080x576 with 1 Axes>",
      "image/png": "[encoded data removed]"
     },
     "metadata": {},
     "output_type": "display_data"
    }
   ],
   "source": [
    "df['RestingECG'].hist()\n",
    "df_heart_disease['RestingECG'].hist()"
   ],
   "metadata": {
    "collapsed": false,
    "pycharm": {
     "name": "#%%\n"
    }
   }
  },
  {
   "cell_type": "markdown",
   "source": [
    "Parece que um eletrocardiograma com resultado \"normal\" não é uma segurança de que o paciente está livre de problemas,\n",
    "contudo também não garante o contrário."
   ],
   "metadata": {
    "collapsed": false,
    "pycharm": {
     "name": "#%% md\n"
    }
   }
  },
  {
   "cell_type": "code",
   "execution_count": 590,
   "outputs": [
    {
     "name": "stdout",
     "output_type": "stream",
     "text": [
      "1    37\n",
      "0    11\n",
      "Name: HeartDisease, dtype: int64\n"
     ]
    }
   ],
   "source": [
    "# ST_Slope: Down -> 0 | Flat -> 1 | Up -> 2\n",
    "up_slope = df['ST_Slope'] == 2\n",
    "down_slope = df['ST_Slope'] == 0\n",
    "st_deviation_down = df['STDeviation'] > 0\n",
    "\n",
    "print(df[down_slope & st_deviation_down]['HeartDisease'].value_counts())"
   ],
   "metadata": {
    "collapsed": false,
    "pycharm": {
     "name": "#%%\n"
    }
   }
  },
  {
   "cell_type": "code",
   "execution_count": 591,
   "outputs": [
    {
     "data": {
      "text/plain": "<AxesSubplot:>"
     },
     "execution_count": 591,
     "metadata": {},
     "output_type": "execute_result"
    },
    {
     "data": {
      "text/plain": "<Figure size 1080x576 with 1 Axes>",
      "image/png": "[encoded data removed]"
     },
     "metadata": {},
     "output_type": "display_data"
    }
   ],
   "source": [
    "df['STDeviation'].hist()\n",
    "df_heart_disease['STDeviation'].hist()"
   ],
   "metadata": {
    "collapsed": false,
    "pycharm": {
     "name": "#%%\n"
    }
   }
  },
  {
   "cell_type": "markdown",
   "source": [
    "Parece que quanto maior o valor de ST-Deviation maior a probabilidade ter doença cardiovascular"
   ],
   "metadata": {
    "collapsed": false,
    "pycharm": {
     "name": "#%% md\n"
    }
   }
  },
  {
   "cell_type": "markdown",
   "source": [
    "#### ST elevation in man and women"
   ],
   "metadata": {
    "collapsed": false,
    "pycharm": {
     "name": "#%% md\n"
    }
   }
  },
  {
   "cell_type": "code",
   "execution_count": 592,
   "outputs": [
    {
     "data": {
      "text/plain": "<AxesSubplot:>"
     },
     "execution_count": 592,
     "metadata": {},
     "output_type": "execute_result"
    },
    {
     "data": {
      "text/plain": "<Figure size 1080x576 with 1 Axes>",
      "image/png": "[encoded data removed]"
     },
     "metadata": {},
     "output_type": "display_data"
    }
   ],
   "source": [
    "# Gender: M -> 1 | F -> 0\n",
    "df[up_slope & (df['Gender'] == 1)]['Age'].hist()\n",
    "df[up_slope & (df['Gender'] == 0)]['Age'].hist()"
   ],
   "metadata": {
    "collapsed": false,
    "pycharm": {
     "name": "#%%\n"
    }
   }
  },
  {
   "cell_type": "markdown",
   "source": [
    "Segundo, https://www.ncbi.nlm.nih.gov/books/NBK459364/,\n",
    "ST elevation parecer ser mais predominante em homems jovens e adultos de meia-idade em relação\n",
    "às mulheres e segundo o gráfico a cima os dados confirmam estas afirmações.\n"
   ],
   "metadata": {
    "collapsed": false
   }
  },
  {
   "cell_type": "markdown",
   "source": [
    "#### Max hear rate"
   ],
   "metadata": {
    "collapsed": false,
    "pycharm": {
     "name": "#%% md\n"
    }
   }
  },
  {
   "cell_type": "code",
   "execution_count": 593,
   "outputs": [
    {
     "data": {
      "text/plain": "<AxesSubplot:>"
     },
     "execution_count": 593,
     "metadata": {},
     "output_type": "execute_result"
    },
    {
     "data": {
      "text/plain": "<Figure size 1080x576 with 1 Axes>",
      "image/png": "[encoded data removed]"
     },
     "metadata": {},
     "output_type": "display_data"
    }
   ],
   "source": [
    "high_max_hr = df['MaxHeartRateClass'] == \"High\"\n",
    "normal_max_hr = df['MaxHeartRateClass'] == \"Normal\"\n",
    "\n",
    "df['MaxHeartRateClass'].hist()\n",
    "df_heart_disease['MaxHeartRateClass'].hist()\n"
   ],
   "metadata": {
    "collapsed": false,
    "pycharm": {
     "name": "#%%\n"
    }
   }
  },
  {
   "cell_type": "markdown",
   "source": [
    "## Machine learning"
   ],
   "metadata": {
    "collapsed": false,
    "pycharm": {
     "name": "#%% md\n"
    }
   }
  },
  {
   "cell_type": "code",
   "execution_count": 594,
   "outputs": [
    {
     "data": {
      "text/plain": "1    0.545667\n0    0.454333\nName: HeartDisease, dtype: float64"
     },
     "execution_count": 594,
     "metadata": {},
     "output_type": "execute_result"
    }
   ],
   "source": [
    "df['HeartDisease'].value_counts(normalize=True)"
   ],
   "metadata": {
    "collapsed": false,
    "pycharm": {
     "name": "#%%\n"
    }
   }
  },
  {
   "cell_type": "markdown",
   "source": [
    "O dataset aparenta ser quase balanceado neste aspeto, uma vez que existem quase tantos casos com\n",
    "doença de coração como sem."
   ],
   "metadata": {
    "collapsed": false
   }
  },
  {
   "cell_type": "markdown",
   "source": [
    "### Model Pipeline"
   ],
   "metadata": {
    "collapsed": false,
    "pycharm": {
     "name": "#%% md\n"
    }
   }
  },
  {
   "cell_type": "code",
   "execution_count": 641,
   "outputs": [],
   "source": [
    "def classify(model, inputs, targets):\n",
    "    X_train, X_test, y_train, y_test = train_test_split(inputs,targets,test_size=0.8, random_state = 42)\n",
    "    model.fit(X_train, y_train)\n",
    "    y_pred = model.predict(X_test)\n",
    "    return round(accuracy_score(y_test, y_pred),4)"
   ],
   "metadata": {
    "collapsed": false,
    "pycharm": {
     "name": "#%%\n"
    }
   }
  },
  {
   "cell_type": "markdown",
   "source": [
    "#### Normalização dos dados"
   ],
   "metadata": {
    "collapsed": false
   }
  },
  {
   "cell_type": "code",
   "execution_count": 596,
   "outputs": [],
   "source": [
    "def standardScaler(features):\n",
    "    scaler = StandardScaler()\n",
    "    scaler.fit(features)\n",
    "    return scaler.transform(features)\n",
    "\n",
    "def minMaxScaler(features):\n",
    "    sc = MinMaxScaler()\n",
    "    return sc.fit_transform(features)"
   ],
   "metadata": {
    "collapsed": false,
    "pycharm": {
     "name": "#%%\n"
    }
   }
  },
  {
   "cell_type": "markdown",
   "source": [
    "### Model comparison"
   ],
   "metadata": {
    "collapsed": false,
    "pycharm": {
     "name": "#%% md\n"
    }
   }
  },
  {
   "cell_type": "code",
   "execution_count": 643,
   "outputs": [
    {
     "name": "stdout",
     "output_type": "stream",
     "text": [
      "model : SVC() and  accuracy score is : 0.8187\n",
      "model : KNeighborsClassifier() and  accuracy score is : 0.8099\n",
      "model : RandomForestClassifier(random_state=0) and  accuracy score is : 0.8289\n"
     ]
    }
   ],
   "source": [
    "inputs = df.drop(['HeartDisease', 'CholesterolClass', 'RestingBPClass', 'MaxHeartRateClass'], axis=1)\n",
    "targets = df['HeartDisease']\n",
    "\n",
    "svm = SVC(gamma='scale')\n",
    "knn = KNeighborsClassifier()\n",
    "rf = RandomForestClassifier(random_state=0)\n",
    "\n",
    "models = [svm, knn, rf]\n",
    "\n",
    "for model in models:\n",
    "    acc = classify(model=model, inputs=minMaxScaler(inputs), targets=targets)\n",
    "    print (f'model : {model} and  accuracy score is : {acc}')"
   ],
   "metadata": {
    "collapsed": false,
    "pycharm": {
     "name": "#%%\n"
    }
   }
  },
  {
   "cell_type": "markdown",
   "source": [
    "Looks like RandomForest has a better performance, so that will be the selected one"
   ],
   "metadata": {
    "collapsed": false,
    "pycharm": {
     "name": "#%% md\n"
    }
   }
  },
  {
   "cell_type": "markdown",
   "source": [
    "### Improved Feature Selection"
   ],
   "metadata": {
    "collapsed": false
   }
  },
  {
   "cell_type": "markdown",
   "source": [
    "Agora que temos uma baseline definida, vamos tentar melhorar o modelo, fazendo uma melhor feature selection"
   ],
   "metadata": {
    "collapsed": false
   }
  },
  {
   "cell_type": "markdown",
   "source": [
    "#### Filter by variance\n",
    "\n",
    "Variaveis com pouca variedade geralmente não são boas para modelos efeitos de previsão, por isso\n",
    "podem ser descartadas."
   ],
   "metadata": {
    "collapsed": false
   }
  },
  {
   "cell_type": "code",
   "execution_count": null,
   "outputs": [],
   "source": [
    "df_features = df.drop(\"HeartDisease\",axis = 1)\n",
    "df_features.var()"
   ],
   "metadata": {
    "collapsed": false,
    "pycharm": {
     "name": "#%%\n"
    }
   }
  },
  {
   "cell_type": "markdown",
   "source": [
    "#### Filter by correlation"
   ],
   "metadata": {
    "collapsed": false
   }
  },
  {
   "cell_type": "code",
   "execution_count": null,
   "outputs": [],
   "source": [
    "abs(df.corr()['HeartDisease'])"
   ],
   "metadata": {
    "collapsed": false,
    "pycharm": {
     "name": "#%%\n"
    }
   }
  },
  {
   "cell_type": "markdown",
   "source": [
    "Este tipo da análise permite ver que apesar de a coluna 'ST_Slope' ter baixa variância, é a que apresenta maior\n",
    "correlação com a existência de doença do coração."
   ],
   "metadata": {
    "collapsed": false
   }
  },
  {
   "cell_type": "markdown",
   "source": [
    "De modo a analisar a precisão de acordo com o nivel de correlação escolhido, corre-se o mesmo modelo para diferentes\n",
    "niveis de correlação."
   ],
   "metadata": {
    "collapsed": false
   }
  },
  {
   "cell_type": "code",
   "execution_count": null,
   "outputs": [],
   "source": [
    "corrs = [0.1, 0.2, 0.3, 0.4, 0.5]\n",
    "\n",
    "best_corr = 0\n",
    "max_res = 0\n",
    "for corr in corrs:\n",
    "    high_corr_cols = abs(df.corr()['HeartDisease'][abs(df.corr()['HeartDisease'])>corr].drop('HeartDisease')).index.tolist()\n",
    "    df_features = df[high_corr_cols]\n",
    "    targets = df[\"HeartDisease\"]\n",
    "    inputs = df_features\n",
    "    res = classify(model=RandomForestClassifier(), features=inputs, targets=targets)\n",
    "    if res > max_res:\n",
    "        max_res = res\n",
    "        best_corr = corr\n",
    "    print('min correlation:',corr,'- precision:',res,'\\n')"
   ],
   "metadata": {
    "collapsed": false,
    "pycharm": {
     "name": "#%%\n"
    }
   }
  },
  {
   "cell_type": "markdown",
   "source": [
    "Model result presentation ideas"
   ],
   "metadata": {
    "collapsed": false,
    "pycharm": {
     "name": "#%% md\n"
    }
   }
  },
  {
   "cell_type": "code",
   "execution_count": 600,
   "outputs": [],
   "source": [
    "#y_hat = rfc.predict(x_test)\n",
    "#final_result = pd.DataFrame({'Actual': y_test, 'Predicted': y_hat})\n",
    "#final_result"
   ],
   "metadata": {
    "collapsed": false,
    "pycharm": {
     "name": "#%%\n"
    }
   }
  },
  {
   "cell_type": "markdown",
   "source": [
    "Precisão final"
   ],
   "metadata": {
    "collapsed": false
   }
  },
  {
   "cell_type": "code",
   "execution_count": 601,
   "outputs": [],
   "source": [
    "#print(f\"Acuraccy: {round(rfc.score(x_test,y_test),2)*100}%\")"
   ],
   "metadata": {
    "collapsed": false,
    "pycharm": {
     "name": "#%%\n"
    }
   }
  },
  {
   "cell_type": "markdown",
   "source": [
    "##### Niveis de colestrol"
   ],
   "metadata": {
    "collapsed": false
   }
  },
  {
   "cell_type": "code",
   "execution_count": 602,
   "outputs": [],
   "source": [
    "#df['CholesterolClass'].value_counts(normalize=True)"
   ],
   "metadata": {
    "collapsed": false,
    "pycharm": {
     "name": "#%%\n"
    }
   }
  },
  {
   "cell_type": "code",
   "execution_count": 603,
   "outputs": [],
   "source": [
    "#plt.hist([df['CholesterolClass'], df_heart_disease['CholesterolClass']], color=['r','b'], alpha=0.5)"
   ],
   "metadata": {
    "collapsed": false,
    "pycharm": {
     "name": "#%%\n"
    }
   }
  },
  {
   "cell_type": "code",
   "execution_count": 604,
   "outputs": [],
   "source": [
    "# Percentage of cholesterol_type in individuals with heart disease\n",
    "#df_heart_disease['CholesterolClass'].value_counts() / df['CholesterolClass'].value_counts()"
   ],
   "metadata": {
    "collapsed": false,
    "pycharm": {
     "name": "#%%\n"
    }
   }
  },
  {
   "cell_type": "markdown",
   "source": [
    "Comparando a ocorrência de doença de coração com os niveis de colestrol, é possivel verificar\n",
    "que 50% dos individuos com colestrol alto sofrem da mesma e que 88%\n",
    "dos que apresentam niveis baixos também.\n",
    "\n",
    "Esta analise demonstra também que em individuos com niveis normais de colestrol, a presença da doença\n",
    "é de 38%, contudo, é importante notar, que 83% dos individuos neste dataset apresenta niveis\n",
    "elevados de colestrol, muito em parte devido a ter-se assumido para os 18% dos dados que tinham os niveis colestrol em\n",
    "falta, que seria atribuido o valor da mediana (289)."
   ],
   "metadata": {
    "collapsed": false
   }
  },
  {
   "cell_type": "markdown",
   "source": [
    "#### Pressão Sanguinea"
   ],
   "metadata": {
    "collapsed": false
   }
  },
  {
   "cell_type": "code",
   "execution_count": 605,
   "outputs": [],
   "source": [
    "#print('Total\\n',df['RestingBPClass'].value_counts(normalize=True), '\\n')\n",
    "#print('Heart Disease\\n',df_heart_disease['RestingBPClass'].value_counts())"
   ],
   "metadata": {
    "collapsed": false,
    "pycharm": {
     "name": "#%%\n"
    }
   }
  },
  {
   "cell_type": "code",
   "execution_count": 606,
   "outputs": [],
   "source": [
    "#plt.hist([df['RestingBPClass'], df_heart_disease['RestingBPClass']], color=['r','b'], alpha=0.5)"
   ],
   "metadata": {
    "collapsed": false,
    "pycharm": {
     "name": "#%%\n"
    }
   }
  },
  {
   "cell_type": "code",
   "execution_count": 607,
   "outputs": [],
   "source": [
    "# Percentage of RestingBPClass in individuals with heart disease\n",
    "#df_heart_disease['RestingBPClass'].value_counts() / df['RestingBPClass'].value_counts()"
   ],
   "metadata": {
    "collapsed": false,
    "pycharm": {
     "name": "#%%\n"
    }
   }
  },
  {
   "cell_type": "markdown",
   "source": [
    "Comparando a ocorrência de doença de coração com os niveis de pressão sanguinea, é possivel verificar\n",
    "que 68% dos individuos com pressão alta sofrem da mesma. Devido a este dataset não conter nenhuns casos de pressão\n",
    "baixa, não é possivel tirar conclusões sobre esta.\n",
    "\n",
    "Esta analise demonstra também que em individuos com niveis normais de pressão sanguinea, a presença da doença\n",
    "é de 51%, contudo, é importante notar, que estes são dados sobre pressão sanguinea em repouso, que para um quadro\n",
    "clinico, podem tirar grande disparidade da pressão sanguinea quando um individuo está em esforço."
   ],
   "metadata": {
    "collapsed": false
   }
  },
  {
   "cell_type": "markdown",
   "source": [
    "##### Nivel de açucar no sangue em jejum / Diabetes"
   ],
   "metadata": {
    "collapsed": false
   }
  },
  {
   "cell_type": "code",
   "execution_count": 608,
   "outputs": [],
   "source": [
    "# 0 -> no diabetes | 1 -> has diabetes\n",
    "#df['Diabetes'].value_counts(normalize=True)"
   ],
   "metadata": {
    "collapsed": false,
    "pycharm": {
     "name": "#%%\n"
    }
   }
  },
  {
   "cell_type": "code",
   "execution_count": 609,
   "outputs": [],
   "source": [
    "#plt.hist([df['Diabetes'], df_heart_disease['Diabetes']], color=['r','b'], alpha=0.5)"
   ],
   "metadata": {
    "collapsed": false,
    "pycharm": {
     "name": "#%%\n"
    }
   }
  },
  {
   "cell_type": "code",
   "execution_count": 610,
   "outputs": [],
   "source": [
    "# Percentage of cholesterol_type in individuals with heart disease\n",
    "#df_heart_disease['Diabetes'].value_counts() / df['Diabetes'].value_counts()"
   ],
   "metadata": {
    "collapsed": false,
    "pycharm": {
     "name": "#%%\n"
    }
   }
  }
 ],
 "metadata": {
  "kernelspec": {
   "display_name": "Python 3",
   "language": "python",
   "name": "python3"
  },
  "language_info": {
   "codemirror_mode": {
    "name": "ipython",
    "version": 2
   },
   "file_extension": ".py",
   "mimetype": "text/x-python",
   "name": "python",
   "nbconvert_exporter": "python",
   "pygments_lexer": "ipython2",
   "version": "2.7.6"
  }
 },
 "nbformat": 4,
 "nbformat_minor": 0
}