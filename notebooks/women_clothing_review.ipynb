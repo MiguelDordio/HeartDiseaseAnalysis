{
 "cells": [
  {
   "cell_type": "markdown",
   "source": [
    "Projeto Fundamentos da Ciência dos Dados: Avaliações de vestuário para mulheres em E-commercer\n",
    "por: Miguel Oliveira - 96200\n",
    "\n",
    "Introdução\n",
    "Ao longo deste projeto irei aplicar os conhecimentos aprendidos ao longo da unidade curricular Fundamentos da Ciência dos Dados (FCD), nomeadamente sobre manipulação, exploração, visualização e processamentos dos dados.\n",
    "\n",
    "O trabalho vai ser dividido nas seguintes partes:\n",
    "\n",
    "Definição do problema\n",
    "Aquisição dos dados\n",
    "Data Wrangling - Limpeza e manipulação do dataset de forma a obter novas variáveis para poder analisar\n",
    "EDA - Análise exploratória dos dados e a sua interpretação\n",
    "Modelação preditiva - Criação de algoritmos de machine learning"
   ],
   "metadata": {
    "collapsed": false,
    "pycharm": {
     "name": "#%% md\n"
    }
   }
  },
  {
   "cell_type": "markdown",
   "source": [
    "### 1 - Definição do problema"
   ],
   "metadata": {
    "collapsed": false,
    "pycharm": {
     "name": "#%% md\n"
    }
   }
  },
  {
   "cell_type": "markdown",
   "source": [
    "A possibilidade de comprar artigos de roupa online através de plataformas de e-commerce é uma realidade com a qual já\n",
    "contamos há vários anos. É certo também que nem sempre é fácil escolher roupa através de um ecrã sem experimenta-la,\n",
    "assim os comentários deixados por outros utilizadores que tenham anteriormente adequerido a mesma peça são\n",
    "consideravelmente úteis para guiar potenciais compradores.\n",
    "\n",
    "Estes comentários podem também ser indicadores de tendências e preferências por parte deste grupo de individuos e assim\n",
    "procura-se com esta analise tentar mapear possiveis padrões de compra existentes nestas plataformas de e-commerce.\n",
    "\n",
    "Para isso, será analisado um dataset contendo milhares destes comentários por mulheres que compraram ou procuram comprar\n",
    "roupa por estas plataformas."
   ],
   "metadata": {
    "collapsed": false,
    "pycharm": {
     "name": "#%% md\n"
    }
   }
  },
  {
   "cell_type": "markdown",
   "source": [
    "### 2 - Aquisição dos dados\n",
    "Os dados utilizados para este trabalho foram retirados do Kaggle em https://www.kaggle.com/nicapotato/womens-ecommerce-clothing-reviews"
   ],
   "metadata": {
    "collapsed": false,
    "pycharm": {
     "name": "#%% md\n"
    }
   }
  },
  {
   "cell_type": "markdown",
   "source": [
    "### 3 - Data Wrangling\n",
    "Importar as bibliotecas que vamos utilizar"
   ],
   "metadata": {
    "collapsed": false,
    "pycharm": {
     "name": "#%% md\n"
    }
   }
  },
  {
   "cell_type": "code",
   "execution_count": 27,
   "outputs": [],
   "source": [
    "import numpy as np\n",
    "import pandas as pd\n",
    "from datetime import datetime\n",
    "import matplotlib.pyplot as plt\n",
    "import seaborn as sns\n",
    "sns.set()"
   ],
   "metadata": {
    "collapsed": false,
    "pycharm": {
     "name": "#%%\n"
    }
   }
  },
  {
   "cell_type": "markdown",
   "source": [
    "Machine Learning algorithms"
   ],
   "metadata": {
    "collapsed": false,
    "pycharm": {
     "name": "#%% md\n"
    }
   }
  },
  {
   "cell_type": "code",
   "execution_count": 28,
   "outputs": [],
   "source": [
    "from sklearn.ensemble import RandomForestClassifier #Random Forest\n",
    "from sklearn.model_selection import train_test_split, GridSearchCV #training and testing data split\n",
    "from sklearn import metrics #accuracy measure\n",
    "from sklearn.preprocessing import MinMaxScaler, StandardScaler\n",
    "from sklearn.metrics import confusion_matrix #for confusion matrix\n",
    "from sklearn.metrics import classification_report, confusion_matrix\n",
    "from sklearn.neural_network import MLPClassifier"
   ],
   "metadata": {
    "collapsed": false,
    "pycharm": {
     "name": "#%%\n"
    }
   }
  },
  {
   "cell_type": "code",
   "execution_count": 29,
   "outputs": [
    {
     "data": {
      "text/plain": "   Unnamed: 0  Clothing ID  Age                    Title  \\\n0           0          767   33                      NaN   \n1           1         1080   34                      NaN   \n2           2         1077   60  Some major design flaws   \n3           3         1049   50         My favorite buy!   \n4           4          847   47         Flattering shirt   \n\n                                         Review Text  Rating  Recommended IND  \\\n0  Absolutely wonderful - silky and sexy and comf...       4                1   \n1  Love this dress!  it's sooo pretty.  i happene...       5                1   \n2  I had such high hopes for this dress and reall...       3                0   \n3  I love, love, love this jumpsuit. it's fun, fl...       5                1   \n4  This shirt is very flattering to all due to th...       5                1   \n\n   Positive Feedback Count   Division Name Department Name Class Name  \n0                        0       Initmates        Intimate  Intimates  \n1                        4         General         Dresses    Dresses  \n2                        0         General         Dresses    Dresses  \n3                        0  General Petite         Bottoms      Pants  \n4                        6         General            Tops    Blouses  ",
      "text/html": "<div>\n<style scoped>\n    .dataframe tbody tr th:only-of-type {\n        vertical-align: middle;\n    }\n\n    .dataframe tbody tr th {\n        vertical-align: top;\n    }\n\n    .dataframe thead th {\n        text-align: right;\n    }\n</style>\n<table border=\"1\" class=\"dataframe\">\n  <thead>\n    <tr style=\"text-align: right;\">\n      <th></th>\n      <th>Unnamed: 0</th>\n      <th>Clothing ID</th>\n      <th>Age</th>\n      <th>Title</th>\n      <th>Review Text</th>\n      <th>Rating</th>\n      <th>Recommended IND</th>\n      <th>Positive Feedback Count</th>\n      <th>Division Name</th>\n      <th>Department Name</th>\n      <th>Class Name</th>\n    </tr>\n  </thead>\n  <tbody>\n    <tr>\n      <th>0</th>\n      <td>0</td>\n      <td>767</td>\n      <td>33</td>\n      <td>NaN</td>\n      <td>Absolutely wonderful - silky and sexy and comf...</td>\n      <td>4</td>\n      <td>1</td>\n      <td>0</td>\n      <td>Initmates</td>\n      <td>Intimate</td>\n      <td>Intimates</td>\n    </tr>\n    <tr>\n      <th>1</th>\n      <td>1</td>\n      <td>1080</td>\n      <td>34</td>\n      <td>NaN</td>\n      <td>Love this dress!  it's sooo pretty.  i happene...</td>\n      <td>5</td>\n      <td>1</td>\n      <td>4</td>\n      <td>General</td>\n      <td>Dresses</td>\n      <td>Dresses</td>\n    </tr>\n    <tr>\n      <th>2</th>\n      <td>2</td>\n      <td>1077</td>\n      <td>60</td>\n      <td>Some major design flaws</td>\n      <td>I had such high hopes for this dress and reall...</td>\n      <td>3</td>\n      <td>0</td>\n      <td>0</td>\n      <td>General</td>\n      <td>Dresses</td>\n      <td>Dresses</td>\n    </tr>\n    <tr>\n      <th>3</th>\n      <td>3</td>\n      <td>1049</td>\n      <td>50</td>\n      <td>My favorite buy!</td>\n      <td>I love, love, love this jumpsuit. it's fun, fl...</td>\n      <td>5</td>\n      <td>1</td>\n      <td>0</td>\n      <td>General Petite</td>\n      <td>Bottoms</td>\n      <td>Pants</td>\n    </tr>\n    <tr>\n      <th>4</th>\n      <td>4</td>\n      <td>847</td>\n      <td>47</td>\n      <td>Flattering shirt</td>\n      <td>This shirt is very flattering to all due to th...</td>\n      <td>5</td>\n      <td>1</td>\n      <td>6</td>\n      <td>General</td>\n      <td>Tops</td>\n      <td>Blouses</td>\n    </tr>\n  </tbody>\n</table>\n</div>"
     },
     "execution_count": 29,
     "metadata": {},
     "output_type": "execute_result"
    }
   ],
   "source": [
    "df = pd.read_csv('../data/Womens Clothing E-Commerce Reviews.csv', sep=\",\", encoding=\"utf-8\")\n",
    "df.head()"
   ],
   "metadata": {
    "collapsed": false,
    "pycharm": {
     "name": "#%%\n"
    }
   }
  },
  {
   "cell_type": "code",
   "execution_count": 30,
   "outputs": [
    {
     "data": {
      "text/plain": "         Unnamed: 0   Clothing ID           Age        Rating  \\\ncount  23486.000000  23486.000000  23486.000000  23486.000000   \nmean   11742.500000    918.118709     43.198544      4.196032   \nstd     6779.968547    203.298980     12.279544      1.110031   \nmin        0.000000      0.000000     18.000000      1.000000   \n25%     5871.250000    861.000000     34.000000      4.000000   \n50%    11742.500000    936.000000     41.000000      5.000000   \n75%    17613.750000   1078.000000     52.000000      5.000000   \nmax    23485.000000   1205.000000     99.000000      5.000000   \n\n       Recommended IND  Positive Feedback Count  \ncount     23486.000000             23486.000000  \nmean          0.822362                 2.535936  \nstd           0.382216                 5.702202  \nmin           0.000000                 0.000000  \n25%           1.000000                 0.000000  \n50%           1.000000                 1.000000  \n75%           1.000000                 3.000000  \nmax           1.000000               122.000000  ",
      "text/html": "<div>\n<style scoped>\n    .dataframe tbody tr th:only-of-type {\n        vertical-align: middle;\n    }\n\n    .dataframe tbody tr th {\n        vertical-align: top;\n    }\n\n    .dataframe thead th {\n        text-align: right;\n    }\n</style>\n<table border=\"1\" class=\"dataframe\">\n  <thead>\n    <tr style=\"text-align: right;\">\n      <th></th>\n      <th>Unnamed: 0</th>\n      <th>Clothing ID</th>\n      <th>Age</th>\n      <th>Rating</th>\n      <th>Recommended IND</th>\n      <th>Positive Feedback Count</th>\n    </tr>\n  </thead>\n  <tbody>\n    <tr>\n      <th>count</th>\n      <td>23486.000000</td>\n      <td>23486.000000</td>\n      <td>23486.000000</td>\n      <td>23486.000000</td>\n      <td>23486.000000</td>\n      <td>23486.000000</td>\n    </tr>\n    <tr>\n      <th>mean</th>\n      <td>11742.500000</td>\n      <td>918.118709</td>\n      <td>43.198544</td>\n      <td>4.196032</td>\n      <td>0.822362</td>\n      <td>2.535936</td>\n    </tr>\n    <tr>\n      <th>std</th>\n      <td>6779.968547</td>\n      <td>203.298980</td>\n      <td>12.279544</td>\n      <td>1.110031</td>\n      <td>0.382216</td>\n      <td>5.702202</td>\n    </tr>\n    <tr>\n      <th>min</th>\n      <td>0.000000</td>\n      <td>0.000000</td>\n      <td>18.000000</td>\n      <td>1.000000</td>\n      <td>0.000000</td>\n      <td>0.000000</td>\n    </tr>\n    <tr>\n      <th>25%</th>\n      <td>5871.250000</td>\n      <td>861.000000</td>\n      <td>34.000000</td>\n      <td>4.000000</td>\n      <td>1.000000</td>\n      <td>0.000000</td>\n    </tr>\n    <tr>\n      <th>50%</th>\n      <td>11742.500000</td>\n      <td>936.000000</td>\n      <td>41.000000</td>\n      <td>5.000000</td>\n      <td>1.000000</td>\n      <td>1.000000</td>\n    </tr>\n    <tr>\n      <th>75%</th>\n      <td>17613.750000</td>\n      <td>1078.000000</td>\n      <td>52.000000</td>\n      <td>5.000000</td>\n      <td>1.000000</td>\n      <td>3.000000</td>\n    </tr>\n    <tr>\n      <th>max</th>\n      <td>23485.000000</td>\n      <td>1205.000000</td>\n      <td>99.000000</td>\n      <td>5.000000</td>\n      <td>1.000000</td>\n      <td>122.000000</td>\n    </tr>\n  </tbody>\n</table>\n</div>"
     },
     "execution_count": 30,
     "metadata": {},
     "output_type": "execute_result"
    }
   ],
   "source": [
    "df.describe()"
   ],
   "metadata": {
    "collapsed": false,
    "pycharm": {
     "name": "#%%\n"
    }
   }
  },
  {
   "cell_type": "code",
   "execution_count": 31,
   "outputs": [
    {
     "name": "stdout",
     "output_type": "stream",
     "text": [
      "<class 'pandas.core.frame.DataFrame'>\n",
      "RangeIndex: 23486 entries, 0 to 23485\n",
      "Data columns (total 11 columns):\n",
      " #   Column                   Non-Null Count  Dtype \n",
      "---  ------                   --------------  ----- \n",
      " 0   Unnamed: 0               23486 non-null  int64 \n",
      " 1   Clothing ID              23486 non-null  int64 \n",
      " 2   Age                      23486 non-null  int64 \n",
      " 3   Title                    19676 non-null  object\n",
      " 4   Review Text              22641 non-null  object\n",
      " 5   Rating                   23486 non-null  int64 \n",
      " 6   Recommended IND          23486 non-null  int64 \n",
      " 7   Positive Feedback Count  23486 non-null  int64 \n",
      " 8   Division Name            23472 non-null  object\n",
      " 9   Department Name          23472 non-null  object\n",
      " 10  Class Name               23472 non-null  object\n",
      "dtypes: int64(6), object(5)\n",
      "memory usage: 2.0+ MB\n"
     ]
    }
   ],
   "source": [
    "df.info()"
   ],
   "metadata": {
    "collapsed": false,
    "pycharm": {
     "name": "#%%\n"
    }
   }
  },
  {
   "cell_type": "markdown",
   "source": [
    "Algumar colunas contêm dados irrelevantes para a analise e renomear algumas columas para que o seu próposito\n",
    "seja mais legivel."
   ],
   "metadata": {
    "collapsed": false,
    "pycharm": {
     "name": "#%% md\n"
    }
   }
  },
  {
   "cell_type": "code",
   "execution_count": 32,
   "outputs": [
    {
     "data": {
      "text/plain": "   Age                    Title  \\\n0   33                      NaN   \n1   34                      NaN   \n2   60  Some major design flaws   \n3   50         My favorite buy!   \n4   47         Flattering shirt   \n\n                                         Review Text  Rating  Recommended  \\\n0  Absolutely wonderful - silky and sexy and comf...       4            1   \n1  Love this dress!  it's sooo pretty.  i happene...       5            1   \n2  I had such high hopes for this dress and reall...       3            0   \n3  I love, love, love this jumpsuit. it's fun, fl...       5            1   \n4  This shirt is very flattering to all due to th...       5            1   \n\n    Division Name Department Name Cloth Type  \n0       Initmates        Intimate  Intimates  \n1         General         Dresses    Dresses  \n2         General         Dresses    Dresses  \n3  General Petite         Bottoms      Pants  \n4         General            Tops    Blouses  ",
      "text/html": "<div>\n<style scoped>\n    .dataframe tbody tr th:only-of-type {\n        vertical-align: middle;\n    }\n\n    .dataframe tbody tr th {\n        vertical-align: top;\n    }\n\n    .dataframe thead th {\n        text-align: right;\n    }\n</style>\n<table border=\"1\" class=\"dataframe\">\n  <thead>\n    <tr style=\"text-align: right;\">\n      <th></th>\n      <th>Age</th>\n      <th>Title</th>\n      <th>Review Text</th>\n      <th>Rating</th>\n      <th>Recommended</th>\n      <th>Division Name</th>\n      <th>Department Name</th>\n      <th>Cloth Type</th>\n    </tr>\n  </thead>\n  <tbody>\n    <tr>\n      <th>0</th>\n      <td>33</td>\n      <td>NaN</td>\n      <td>Absolutely wonderful - silky and sexy and comf...</td>\n      <td>4</td>\n      <td>1</td>\n      <td>Initmates</td>\n      <td>Intimate</td>\n      <td>Intimates</td>\n    </tr>\n    <tr>\n      <th>1</th>\n      <td>34</td>\n      <td>NaN</td>\n      <td>Love this dress!  it's sooo pretty.  i happene...</td>\n      <td>5</td>\n      <td>1</td>\n      <td>General</td>\n      <td>Dresses</td>\n      <td>Dresses</td>\n    </tr>\n    <tr>\n      <th>2</th>\n      <td>60</td>\n      <td>Some major design flaws</td>\n      <td>I had such high hopes for this dress and reall...</td>\n      <td>3</td>\n      <td>0</td>\n      <td>General</td>\n      <td>Dresses</td>\n      <td>Dresses</td>\n    </tr>\n    <tr>\n      <th>3</th>\n      <td>50</td>\n      <td>My favorite buy!</td>\n      <td>I love, love, love this jumpsuit. it's fun, fl...</td>\n      <td>5</td>\n      <td>1</td>\n      <td>General Petite</td>\n      <td>Bottoms</td>\n      <td>Pants</td>\n    </tr>\n    <tr>\n      <th>4</th>\n      <td>47</td>\n      <td>Flattering shirt</td>\n      <td>This shirt is very flattering to all due to th...</td>\n      <td>5</td>\n      <td>1</td>\n      <td>General</td>\n      <td>Tops</td>\n      <td>Blouses</td>\n    </tr>\n  </tbody>\n</table>\n</div>"
     },
     "execution_count": 32,
     "metadata": {},
     "output_type": "execute_result"
    }
   ],
   "source": [
    "df = df.drop(['Unnamed: 0', 'Clothing ID', 'Positive Feedback Count' ], axis = 1)\n",
    "df.rename(columns={'Recommended IND': 'Recommended', 'Class Name': 'Cloth Type'}, inplace=True)\n",
    "df.head()"
   ],
   "metadata": {
    "collapsed": false,
    "pycharm": {
     "name": "#%%\n"
    }
   }
  },
  {
   "cell_type": "markdown",
   "source": [
    "Para além disso, exitem entradas sem comentários e apenas titúlos, vamos considerar os títulos como a avaliação em si"
   ],
   "metadata": {
    "collapsed": false,
    "pycharm": {
     "name": "#%% md\n"
    }
   }
  },
  {
   "cell_type": "code",
   "execution_count": null,
   "outputs": [],
   "source": [
    "#TODO"
   ],
   "metadata": {
    "collapsed": false,
    "pycharm": {
     "name": "#%%\n"
    }
   }
  },
  {
   "cell_type": "code",
   "execution_count": 33,
   "outputs": [
    {
     "data": {
      "text/plain": "       Age                                              Title  \\\n2       60                            Some major design flaws   \n3       50                                   My favorite buy!   \n4       47                                   Flattering shirt   \n5       49                            Not for the very petite   \n6       39                               Cagrcoal shimmer fun   \n...    ...                                                ...   \n23481   34                     Great dress for many occasions   \n23482   48                         Wish it was made of cotton   \n23483   31                              Cute, but see through   \n23484   28  Very cute dress, perfect for summer parties an...   \n23485   52                    Please make more like this one!   \n\n                                             Review Text  Rating  Recommended  \\\n2      I had such high hopes for this dress and reall...       3            0   \n3      I love, love, love this jumpsuit. it's fun, fl...       5            1   \n4      This shirt is very flattering to all due to th...       5            1   \n5      I love tracy reese dresses, but this one is no...       2            0   \n6      I aded this in my basket at hte last mintue to...       5            1   \n...                                                  ...     ...          ...   \n23481  I was very happy to snag this dress at such a ...       5            1   \n23482  It reminds me of maternity clothes. soft, stre...       3            1   \n23483  This fit well, but the top was very see throug...       3            0   \n23484  I bought this dress for a wedding i have this ...       3            1   \n23485  This dress in a lovely platinum is feminine an...       5            1   \n\n        Division Name Department Name Cloth Type  \n2             General         Dresses    Dresses  \n3      General Petite         Bottoms      Pants  \n4             General            Tops    Blouses  \n5             General         Dresses    Dresses  \n6      General Petite            Tops      Knits  \n...               ...             ...        ...  \n23481  General Petite         Dresses    Dresses  \n23482  General Petite            Tops      Knits  \n23483  General Petite         Dresses    Dresses  \n23484         General         Dresses    Dresses  \n23485  General Petite         Dresses    Dresses  \n\n[19662 rows x 8 columns]",
      "text/html": "<div>\n<style scoped>\n    .dataframe tbody tr th:only-of-type {\n        vertical-align: middle;\n    }\n\n    .dataframe tbody tr th {\n        vertical-align: top;\n    }\n\n    .dataframe thead th {\n        text-align: right;\n    }\n</style>\n<table border=\"1\" class=\"dataframe\">\n  <thead>\n    <tr style=\"text-align: right;\">\n      <th></th>\n      <th>Age</th>\n      <th>Title</th>\n      <th>Review Text</th>\n      <th>Rating</th>\n      <th>Recommended</th>\n      <th>Division Name</th>\n      <th>Department Name</th>\n      <th>Cloth Type</th>\n    </tr>\n  </thead>\n  <tbody>\n    <tr>\n      <th>2</th>\n      <td>60</td>\n      <td>Some major design flaws</td>\n      <td>I had such high hopes for this dress and reall...</td>\n      <td>3</td>\n      <td>0</td>\n      <td>General</td>\n      <td>Dresses</td>\n      <td>Dresses</td>\n    </tr>\n    <tr>\n      <th>3</th>\n      <td>50</td>\n      <td>My favorite buy!</td>\n      <td>I love, love, love this jumpsuit. it's fun, fl...</td>\n      <td>5</td>\n      <td>1</td>\n      <td>General Petite</td>\n      <td>Bottoms</td>\n      <td>Pants</td>\n    </tr>\n    <tr>\n      <th>4</th>\n      <td>47</td>\n      <td>Flattering shirt</td>\n      <td>This shirt is very flattering to all due to th...</td>\n      <td>5</td>\n      <td>1</td>\n      <td>General</td>\n      <td>Tops</td>\n      <td>Blouses</td>\n    </tr>\n    <tr>\n      <th>5</th>\n      <td>49</td>\n      <td>Not for the very petite</td>\n      <td>I love tracy reese dresses, but this one is no...</td>\n      <td>2</td>\n      <td>0</td>\n      <td>General</td>\n      <td>Dresses</td>\n      <td>Dresses</td>\n    </tr>\n    <tr>\n      <th>6</th>\n      <td>39</td>\n      <td>Cagrcoal shimmer fun</td>\n      <td>I aded this in my basket at hte last mintue to...</td>\n      <td>5</td>\n      <td>1</td>\n      <td>General Petite</td>\n      <td>Tops</td>\n      <td>Knits</td>\n    </tr>\n    <tr>\n      <th>...</th>\n      <td>...</td>\n      <td>...</td>\n      <td>...</td>\n      <td>...</td>\n      <td>...</td>\n      <td>...</td>\n      <td>...</td>\n      <td>...</td>\n    </tr>\n    <tr>\n      <th>23481</th>\n      <td>34</td>\n      <td>Great dress for many occasions</td>\n      <td>I was very happy to snag this dress at such a ...</td>\n      <td>5</td>\n      <td>1</td>\n      <td>General Petite</td>\n      <td>Dresses</td>\n      <td>Dresses</td>\n    </tr>\n    <tr>\n      <th>23482</th>\n      <td>48</td>\n      <td>Wish it was made of cotton</td>\n      <td>It reminds me of maternity clothes. soft, stre...</td>\n      <td>3</td>\n      <td>1</td>\n      <td>General Petite</td>\n      <td>Tops</td>\n      <td>Knits</td>\n    </tr>\n    <tr>\n      <th>23483</th>\n      <td>31</td>\n      <td>Cute, but see through</td>\n      <td>This fit well, but the top was very see throug...</td>\n      <td>3</td>\n      <td>0</td>\n      <td>General Petite</td>\n      <td>Dresses</td>\n      <td>Dresses</td>\n    </tr>\n    <tr>\n      <th>23484</th>\n      <td>28</td>\n      <td>Very cute dress, perfect for summer parties an...</td>\n      <td>I bought this dress for a wedding i have this ...</td>\n      <td>3</td>\n      <td>1</td>\n      <td>General</td>\n      <td>Dresses</td>\n      <td>Dresses</td>\n    </tr>\n    <tr>\n      <th>23485</th>\n      <td>52</td>\n      <td>Please make more like this one!</td>\n      <td>This dress in a lovely platinum is feminine an...</td>\n      <td>5</td>\n      <td>1</td>\n      <td>General Petite</td>\n      <td>Dresses</td>\n      <td>Dresses</td>\n    </tr>\n  </tbody>\n</table>\n<p>19662 rows × 8 columns</p>\n</div>"
     },
     "execution_count": 33,
     "metadata": {},
     "output_type": "execute_result"
    }
   ],
   "source": [
    "df.dropna()"
   ],
   "metadata": {
    "collapsed": false,
    "pycharm": {
     "name": "#%%\n"
    }
   }
  },
  {
   "cell_type": "markdown",
   "source": [
    "Vamos analisar as faixas etárias presentes"
   ],
   "metadata": {
    "collapsed": false,
    "pycharm": {
     "name": "#%% md\n"
    }
   }
  },
  {
   "cell_type": "code",
   "execution_count": 34,
   "outputs": [
    {
     "data": {
      "text/plain": "39    1269\n35     909\n36     842\n34     804\n38     780\n      ... \n93       2\n90       2\n86       2\n99       2\n92       1\nName: Age, Length: 77, dtype: int64"
     },
     "execution_count": 34,
     "metadata": {},
     "output_type": "execute_result"
    }
   ],
   "source": [
    "df['Age'].value_counts()\n"
   ],
   "metadata": {
    "collapsed": false,
    "pycharm": {
     "name": "#%%\n"
    }
   }
  },
  {
   "cell_type": "markdown",
   "source": [
    "Verifica-se que boa parte dos comentários foi feito por mulheres na casa dos 30 anos\n",
    "\n",
    "Vamos assim agrupar os dados por faixas etárias"
   ],
   "metadata": {
    "collapsed": false,
    "pycharm": {
     "name": "#%% md\n"
    }
   }
  },
  {
   "cell_type": "code",
   "execution_count": 35,
   "outputs": [
    {
     "data": {
      "text/plain": "2927"
     },
     "execution_count": 35,
     "metadata": {},
     "output_type": "execute_result"
    }
   ],
   "source": [
    "df_young = df[(df['Age'] > 18) & (df['Age'] < 30)]\n",
    "df_young['Age'].count()"
   ],
   "metadata": {
    "collapsed": false,
    "pycharm": {
     "name": "#%%\n"
    }
   }
  },
  {
   "cell_type": "code",
   "execution_count": 36,
   "outputs": [
    {
     "data": {
      "text/plain": "10500"
     },
     "execution_count": 36,
     "metadata": {},
     "output_type": "execute_result"
    }
   ],
   "source": [
    "df_adult = df[(df['Age'] > 30) & (df['Age'] < 45)]\n",
    "df_adult['Age'].count()\n"
   ],
   "metadata": {
    "collapsed": false,
    "pycharm": {
     "name": "#%%\n"
    }
   }
  },
  {
   "cell_type": "code",
   "execution_count": 37,
   "outputs": [
    {
     "data": {
      "text/plain": "6341"
     },
     "execution_count": 37,
     "metadata": {},
     "output_type": "execute_result"
    }
   ],
   "source": [
    "df_mid_age = df[(df['Age'] > 45) & (df['Age'] < 60)]\n",
    "df_mid_age['Age'].count()\n"
   ],
   "metadata": {
    "collapsed": false,
    "pycharm": {
     "name": "#%%\n"
    }
   }
  },
  {
   "cell_type": "code",
   "execution_count": 38,
   "outputs": [
    {
     "data": {
      "text/plain": "2437"
     },
     "execution_count": 38,
     "metadata": {},
     "output_type": "execute_result"
    }
   ],
   "source": [
    "df_old = df[(df['Age'] > 60) & (df['Age'] < 100)]\n",
    "df_old['Age'].count()"
   ],
   "metadata": {
    "collapsed": false,
    "pycharm": {
     "name": "#%%\n"
    }
   }
  },
  {
   "cell_type": "markdown",
   "source": [
    "Nesta fase parece que mulheres de meia-idade são as mais propensas a comentar roupa em sites"
   ],
   "metadata": {
    "collapsed": false,
    "pycharm": {
     "name": "#%% md\n"
    }
   }
  },
  {
   "cell_type": "code",
   "execution_count": 40,
   "outputs": [
    {
     "data": {
      "text/plain": "<Figure size 411.85x360 with 4 Axes>",
      "image/png": "[encoded data removed]"
     },
     "metadata": {},
     "output_type": "display_data"
    }
   ],
   "source": [
    "\n",
    "g = sns.PairGrid(df_adult, vars=['Rating', 'Recommended'], hue='Age', palette='RdBu_r')\n",
    "g.map(plt.scatter, alpha=0.8)\n",
    "g.add_legend();"
   ],
   "metadata": {
    "collapsed": false,
    "pycharm": {
     "name": "#%%\n"
    }
   }
  },
  {
   "cell_type": "code",
   "execution_count": 50,
   "outputs": [
    {
     "data": {
      "text/plain": "<AxesSubplot:ylabel='Recommended'>"
     },
     "execution_count": 50,
     "metadata": {},
     "output_type": "execute_result"
    },
    {
     "data": {
      "text/plain": "<Figure size 432x288 with 1 Axes>",
      "image/png": "[encoded data removed]"
     },
     "metadata": {},
     "output_type": "display_data"
    }
   ],
   "source": [
    "df_adult['Recommended'].value_counts().plot(kind='pie', autopct='%1.0f%%', colors=[\"green\", \"red\"])"
   ],
   "metadata": {
    "collapsed": false,
    "pycharm": {
     "name": "#%%\n"
    }
   }
  },
  {
   "cell_type": "code",
   "execution_count": 55,
   "outputs": [
    {
     "data": {
      "text/plain": "<AxesSubplot:ylabel='Rating'>"
     },
     "execution_count": 55,
     "metadata": {},
     "output_type": "execute_result"
    },
    {
     "data": {
      "text/plain": "<Figure size 432x288 with 1 Axes>",
      "image/png": "[encoded data removed]"
     },
     "metadata": {},
     "output_type": "display_data"
    }
   ],
   "source": [
    "df_adult['Rating'].value_counts().plot(kind='pie', autopct='%1.0f%%', colors=[\"green\", \"blue\", \"red\", \"orange\", \"grey\"])"
   ],
   "metadata": {
    "collapsed": false,
    "pycharm": {
     "name": "#%%\n"
    }
   }
  },
  {
   "cell_type": "markdown",
   "source": [
    "It looks like the majority of the adult women recommend and more than 75% gave a high rating,\n",
    "indicating their very satisfied with their purchases"
   ],
   "metadata": {
    "collapsed": false,
    "pycharm": {
     "name": "#%% md\n"
    }
   }
  },
  {
   "cell_type": "code",
   "execution_count": null,
   "outputs": [],
   "source": [
    "X = df.iloc[:, 0:4].values\n",
    "y = df.iloc[:, 4].values"
   ],
   "metadata": {
    "collapsed": false,
    "pycharm": {
     "name": "#%%\n"
    }
   }
  },
  {
   "cell_type": "markdown",
   "source": [
    "The following code divides data into training and testing sets:"
   ],
   "metadata": {
    "collapsed": false
   }
  },
  {
   "cell_type": "code",
   "execution_count": null,
   "outputs": [],
   "source": [
    "from sklearn.model_selection import train_test_split\n",
    "\n",
    "X_train, X_test, y_train, y_test = train_test_split(X, y, test_size=0.2, random_state=0)"
   ],
   "metadata": {
    "collapsed": false,
    "pycharm": {
     "name": "#%%\n"
    }
   }
  }
 ],
 "metadata": {
  "kernelspec": {
   "display_name": "Python 3",
   "language": "python",
   "name": "python3"
  },
  "language_info": {
   "codemirror_mode": {
    "name": "ipython",
    "version": 2
   },
   "file_extension": ".py",
   "mimetype": "text/x-python",
   "name": "python",
   "nbconvert_exporter": "python",
   "pygments_lexer": "ipython2",
   "version": "2.7.6"
  }
 },
 "nbformat": 4,
 "nbformat_minor": 0
}